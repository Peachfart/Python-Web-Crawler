{
 "cells": [
  {
   "cell_type": "code",
   "execution_count": 1,
   "metadata": {},
   "outputs": [],
   "source": [
    "import numpy as np\n",
    "import pandas as pd\n",
    "pd.set_option('display.max_rows',10)\n",
    "pd.set_option('display.max_columns',20)\n",
    "pd.set_option('display.precision',2)\n",
    "import matplotlib.pyplot as plt\n",
    "import seaborn as sns\n",
    "sns.set_style(\"whitegrid\")\n",
    "plt.rcParams['font.sans-serif'] = ['Microsoft YaHei','SimHei']\n",
    "plt.rcParams['axes.unicode_minus'] = False"
   ]
  },
  {
   "cell_type": "code",
   "execution_count": 6,
   "metadata": {},
   "outputs": [],
   "source": [
    "df2015 = pd.read_csv('data/2015年中国大学排名.csv')"
   ]
  },
  {
   "cell_type": "code",
   "execution_count": 7,
   "metadata": {},
   "outputs": [
    {
     "name": "stdout",
     "output_type": "stream",
     "text": [
      "<class 'pandas.core.frame.DataFrame'>\n",
      "RangeIndex: 500 entries, 0 to 499\n",
      "Data columns (total 15 columns):\n",
      "排名          192 non-null float64\n",
      "学校名称        192 non-null object\n",
      "省市          192 non-null object\n",
      "总分          192 non-null float64\n",
      "人才培养得分      500 non-null object\n",
      "科学研究得分      192 non-null float64\n",
      "社会服务得分      192 non-null float64\n",
      "生源质量        500 non-null object\n",
      "培养成果        192 non-null object\n",
      "人才培养得分.1    192 non-null float64\n",
      "科研规模        500 non-null object\n",
      "科研质量        192 non-null float64\n",
      "顶尖成果        192 non-null float64\n",
      "顶尖人才        192 non-null float64\n",
      "科学研究得分.1    192 non-null float64\n",
      "dtypes: float64(9), object(6)\n",
      "memory usage: 58.7+ KB\n"
     ]
    }
   ],
   "source": [
    "df2015.info()"
   ]
  },
  {
   "cell_type": "code",
   "execution_count": 8,
   "metadata": {},
   "outputs": [
    {
     "data": {
      "text/html": [
       "<div>\n",
       "<style scoped>\n",
       "    .dataframe tbody tr th:only-of-type {\n",
       "        vertical-align: middle;\n",
       "    }\n",
       "\n",
       "    .dataframe tbody tr th {\n",
       "        vertical-align: top;\n",
       "    }\n",
       "\n",
       "    .dataframe thead th {\n",
       "        text-align: right;\n",
       "    }\n",
       "</style>\n",
       "<table border=\"1\" class=\"dataframe\">\n",
       "  <thead>\n",
       "    <tr style=\"text-align: right;\">\n",
       "      <th></th>\n",
       "      <th>排名</th>\n",
       "      <th>学校名称</th>\n",
       "      <th>省市</th>\n",
       "      <th>总分</th>\n",
       "      <th>人才培养得分</th>\n",
       "      <th>科学研究得分</th>\n",
       "      <th>社会服务得分</th>\n",
       "      <th>生源质量</th>\n",
       "      <th>培养成果</th>\n",
       "      <th>人才培养得分.1</th>\n",
       "      <th>科研规模</th>\n",
       "      <th>科研质量</th>\n",
       "      <th>顶尖成果</th>\n",
       "      <th>顶尖人才</th>\n",
       "      <th>科学研究得分.1</th>\n",
       "    </tr>\n",
       "  </thead>\n",
       "  <tbody>\n",
       "    <tr>\n",
       "      <td>191</td>\n",
       "      <td>192.0</td>\n",
       "      <td>烟台大学</td>\n",
       "      <td>山东</td>\n",
       "      <td>28.3</td>\n",
       "      <td>21.3</td>\n",
       "      <td>6.9</td>\n",
       "      <td>0.2</td>\n",
       "      <td>37.3</td>\n",
       "      <td>67.27%</td>\n",
       "      <td>21.3</td>\n",
       "      <td>1407</td>\n",
       "      <td>0.86</td>\n",
       "      <td>16.0</td>\n",
       "      <td>0.0</td>\n",
       "      <td>6.9</td>\n",
       "    </tr>\n",
       "    <tr>\n",
       "      <td>192</td>\n",
       "      <td>NaN</td>\n",
       "      <td>NaN</td>\n",
       "      <td>NaN</td>\n",
       "      <td>NaN</td>\n",
       "      <td>4620</td>\n",
       "      <td>NaN</td>\n",
       "      <td>NaN</td>\n",
       "      <td>4620</td>\n",
       "      <td>NaN</td>\n",
       "      <td>NaN</td>\n",
       "      <td>4620</td>\n",
       "      <td>NaN</td>\n",
       "      <td>NaN</td>\n",
       "      <td>NaN</td>\n",
       "      <td>NaN</td>\n",
       "    </tr>\n",
       "    <tr>\n",
       "      <td>193</td>\n",
       "      <td>NaN</td>\n",
       "      <td>NaN</td>\n",
       "      <td>NaN</td>\n",
       "      <td>NaN</td>\n",
       "      <td>80</td>\n",
       "      <td>NaN</td>\n",
       "      <td>NaN</td>\n",
       "      <td>80</td>\n",
       "      <td>NaN</td>\n",
       "      <td>NaN</td>\n",
       "      <td>80</td>\n",
       "      <td>NaN</td>\n",
       "      <td>NaN</td>\n",
       "      <td>NaN</td>\n",
       "      <td>NaN</td>\n",
       "    </tr>\n",
       "    <tr>\n",
       "      <td>194</td>\n",
       "      <td>NaN</td>\n",
       "      <td>NaN</td>\n",
       "      <td>NaN</td>\n",
       "      <td>NaN</td>\n",
       "      <td>0</td>\n",
       "      <td>NaN</td>\n",
       "      <td>NaN</td>\n",
       "      <td>0</td>\n",
       "      <td>NaN</td>\n",
       "      <td>NaN</td>\n",
       "      <td>0</td>\n",
       "      <td>NaN</td>\n",
       "      <td>NaN</td>\n",
       "      <td>NaN</td>\n",
       "      <td>NaN</td>\n",
       "    </tr>\n",
       "    <tr>\n",
       "      <td>195</td>\n",
       "      <td>NaN</td>\n",
       "      <td>NaN</td>\n",
       "      <td>NaN</td>\n",
       "      <td>NaN</td>\n",
       "      <td>34000</td>\n",
       "      <td>NaN</td>\n",
       "      <td>NaN</td>\n",
       "      <td>34000</td>\n",
       "      <td>NaN</td>\n",
       "      <td>NaN</td>\n",
       "      <td>34000</td>\n",
       "      <td>NaN</td>\n",
       "      <td>NaN</td>\n",
       "      <td>NaN</td>\n",
       "      <td>NaN</td>\n",
       "    </tr>\n",
       "    <tr>\n",
       "      <td>...</td>\n",
       "      <td>...</td>\n",
       "      <td>...</td>\n",
       "      <td>...</td>\n",
       "      <td>...</td>\n",
       "      <td>...</td>\n",
       "      <td>...</td>\n",
       "      <td>...</td>\n",
       "      <td>...</td>\n",
       "      <td>...</td>\n",
       "      <td>...</td>\n",
       "      <td>...</td>\n",
       "      <td>...</td>\n",
       "      <td>...</td>\n",
       "      <td>...</td>\n",
       "      <td>...</td>\n",
       "    </tr>\n",
       "    <tr>\n",
       "      <td>495</td>\n",
       "      <td>NaN</td>\n",
       "      <td>NaN</td>\n",
       "      <td>NaN</td>\n",
       "      <td>NaN</td>\n",
       "      <td>0</td>\n",
       "      <td>NaN</td>\n",
       "      <td>NaN</td>\n",
       "      <td>0</td>\n",
       "      <td>NaN</td>\n",
       "      <td>NaN</td>\n",
       "      <td>0</td>\n",
       "      <td>NaN</td>\n",
       "      <td>NaN</td>\n",
       "      <td>NaN</td>\n",
       "      <td>NaN</td>\n",
       "    </tr>\n",
       "    <tr>\n",
       "      <td>496</td>\n",
       "      <td>NaN</td>\n",
       "      <td>NaN</td>\n",
       "      <td>NaN</td>\n",
       "      <td>NaN</td>\n",
       "      <td>0.12%</td>\n",
       "      <td>NaN</td>\n",
       "      <td>NaN</td>\n",
       "      <td>0.12%</td>\n",
       "      <td>NaN</td>\n",
       "      <td>NaN</td>\n",
       "      <td>0.12%</td>\n",
       "      <td>NaN</td>\n",
       "      <td>NaN</td>\n",
       "      <td>NaN</td>\n",
       "      <td>NaN</td>\n",
       "    </tr>\n",
       "    <tr>\n",
       "      <td>497</td>\n",
       "      <td>NaN</td>\n",
       "      <td>NaN</td>\n",
       "      <td>NaN</td>\n",
       "      <td>NaN</td>\n",
       "      <td>0</td>\n",
       "      <td>NaN</td>\n",
       "      <td>NaN</td>\n",
       "      <td>0</td>\n",
       "      <td>NaN</td>\n",
       "      <td>NaN</td>\n",
       "      <td>0</td>\n",
       "      <td>NaN</td>\n",
       "      <td>NaN</td>\n",
       "      <td>NaN</td>\n",
       "      <td>NaN</td>\n",
       "    </tr>\n",
       "    <tr>\n",
       "      <td>498</td>\n",
       "      <td>NaN</td>\n",
       "      <td>NaN</td>\n",
       "      <td>NaN</td>\n",
       "      <td>NaN</td>\n",
       "      <td>1.11%</td>\n",
       "      <td>NaN</td>\n",
       "      <td>NaN</td>\n",
       "      <td>1.11%</td>\n",
       "      <td>NaN</td>\n",
       "      <td>NaN</td>\n",
       "      <td>1.11%</td>\n",
       "      <td>NaN</td>\n",
       "      <td>NaN</td>\n",
       "      <td>NaN</td>\n",
       "      <td>NaN</td>\n",
       "    </tr>\n",
       "    <tr>\n",
       "      <td>499</td>\n",
       "      <td>NaN</td>\n",
       "      <td>NaN</td>\n",
       "      <td>NaN</td>\n",
       "      <td>NaN</td>\n",
       "      <td>0</td>\n",
       "      <td>NaN</td>\n",
       "      <td>NaN</td>\n",
       "      <td>0</td>\n",
       "      <td>NaN</td>\n",
       "      <td>NaN</td>\n",
       "      <td>0</td>\n",
       "      <td>NaN</td>\n",
       "      <td>NaN</td>\n",
       "      <td>NaN</td>\n",
       "      <td>NaN</td>\n",
       "    </tr>\n",
       "  </tbody>\n",
       "</table>\n",
       "<p>309 rows × 15 columns</p>\n",
       "</div>"
      ],
      "text/plain": [
       "        排名  学校名称   省市    总分 人才培养得分  科学研究得分  社会服务得分   生源质量    培养成果  人才培养得分.1  \\\n",
       "191  192.0  烟台大学   山东  28.3   21.3     6.9     0.2   37.3  67.27%      21.3   \n",
       "192    NaN   NaN  NaN   NaN   4620     NaN     NaN   4620     NaN       NaN   \n",
       "193    NaN   NaN  NaN   NaN     80     NaN     NaN     80     NaN       NaN   \n",
       "194    NaN   NaN  NaN   NaN      0     NaN     NaN      0     NaN       NaN   \n",
       "195    NaN   NaN  NaN   NaN  34000     NaN     NaN  34000     NaN       NaN   \n",
       "..     ...   ...  ...   ...    ...     ...     ...    ...     ...       ...   \n",
       "495    NaN   NaN  NaN   NaN      0     NaN     NaN      0     NaN       NaN   \n",
       "496    NaN   NaN  NaN   NaN  0.12%     NaN     NaN  0.12%     NaN       NaN   \n",
       "497    NaN   NaN  NaN   NaN      0     NaN     NaN      0     NaN       NaN   \n",
       "498    NaN   NaN  NaN   NaN  1.11%     NaN     NaN  1.11%     NaN       NaN   \n",
       "499    NaN   NaN  NaN   NaN      0     NaN     NaN      0     NaN       NaN   \n",
       "\n",
       "      科研规模  科研质量  顶尖成果  顶尖人才  科学研究得分.1  \n",
       "191   1407  0.86  16.0   0.0       6.9  \n",
       "192   4620   NaN   NaN   NaN       NaN  \n",
       "193     80   NaN   NaN   NaN       NaN  \n",
       "194      0   NaN   NaN   NaN       NaN  \n",
       "195  34000   NaN   NaN   NaN       NaN  \n",
       "..     ...   ...   ...   ...       ...  \n",
       "495      0   NaN   NaN   NaN       NaN  \n",
       "496  0.12%   NaN   NaN   NaN       NaN  \n",
       "497      0   NaN   NaN   NaN       NaN  \n",
       "498  1.11%   NaN   NaN   NaN       NaN  \n",
       "499      0   NaN   NaN   NaN       NaN  \n",
       "\n",
       "[309 rows x 15 columns]"
      ]
     },
     "execution_count": 8,
     "metadata": {},
     "output_type": "execute_result"
    }
   ],
   "source": [
    "df2015[191:]"
   ]
  },
  {
   "cell_type": "code",
   "execution_count": 9,
   "metadata": {},
   "outputs": [
    {
     "data": {
      "text/plain": [
       "0       True\n",
       "1       True\n",
       "2       True\n",
       "3       True\n",
       "4       True\n",
       "       ...  \n",
       "495    False\n",
       "496    False\n",
       "497    False\n",
       "498    False\n",
       "499    False\n",
       "Length: 500, dtype: bool"
      ]
     },
     "execution_count": 9,
     "metadata": {},
     "output_type": "execute_result"
    }
   ],
   "source": [
    "df2015['人才培养得分'] == df2015['人才培养得分.1'].astype(str)"
   ]
  },
  {
   "cell_type": "code",
   "execution_count": 11,
   "metadata": {},
   "outputs": [
    {
     "data": {
      "text/plain": [
       "0      False\n",
       "1      False\n",
       "2      False\n",
       "3      False\n",
       "4      False\n",
       "       ...  \n",
       "495    False\n",
       "496    False\n",
       "497    False\n",
       "498    False\n",
       "499    False\n",
       "Name: 科学研究得分, Length: 500, dtype: bool"
      ]
     },
     "execution_count": 11,
     "metadata": {},
     "output_type": "execute_result"
    }
   ],
   "source": [
    "df2015['科学研究得分'] == df2015['科学研究得分.1'].sum()"
   ]
  },
  {
   "cell_type": "code",
   "execution_count": 15,
   "metadata": {},
   "outputs": [],
   "source": [
    "df2016 = pd.read_csv('data/2016年中国大学排名.csv')"
   ]
  },
  {
   "cell_type": "code",
   "execution_count": 16,
   "metadata": {},
   "outputs": [
    {
     "data": {
      "text/html": [
       "<div>\n",
       "<style scoped>\n",
       "    .dataframe tbody tr th:only-of-type {\n",
       "        vertical-align: middle;\n",
       "    }\n",
       "\n",
       "    .dataframe tbody tr th {\n",
       "        vertical-align: top;\n",
       "    }\n",
       "\n",
       "    .dataframe thead th {\n",
       "        text-align: right;\n",
       "    }\n",
       "</style>\n",
       "<table border=\"1\" class=\"dataframe\">\n",
       "  <thead>\n",
       "    <tr style=\"text-align: right;\">\n",
       "      <th></th>\n",
       "      <th>排名</th>\n",
       "      <th>学校名称</th>\n",
       "      <th>省市</th>\n",
       "      <th>总分</th>\n",
       "      <th>生源质量</th>\n",
       "      <th>培养结果</th>\n",
       "      <th>科研规模</th>\n",
       "      <th>科研质量</th>\n",
       "      <th>顶尖成果</th>\n",
       "      <th>顶尖人才</th>\n",
       "      <th>科技服务</th>\n",
       "      <th>产学研合作</th>\n",
       "      <th>成果转化</th>\n",
       "    </tr>\n",
       "  </thead>\n",
       "  <tbody>\n",
       "    <tr>\n",
       "      <td>0</td>\n",
       "      <td>1.0</td>\n",
       "      <td>清华大学</td>\n",
       "      <td>北京市</td>\n",
       "      <td>95.9</td>\n",
       "      <td>100</td>\n",
       "      <td>97.90%</td>\n",
       "      <td>37342</td>\n",
       "      <td>1.298</td>\n",
       "      <td>1177</td>\n",
       "      <td>109</td>\n",
       "      <td>1137711</td>\n",
       "      <td>1187</td>\n",
       "      <td>593522</td>\n",
       "    </tr>\n",
       "    <tr>\n",
       "      <td>1</td>\n",
       "      <td>2.0</td>\n",
       "      <td>北京大学</td>\n",
       "      <td>北京市</td>\n",
       "      <td>82.6</td>\n",
       "      <td>98.9</td>\n",
       "      <td>95.96%</td>\n",
       "      <td>36137</td>\n",
       "      <td>1.294</td>\n",
       "      <td>986</td>\n",
       "      <td>87</td>\n",
       "      <td>439403</td>\n",
       "      <td>799</td>\n",
       "      <td>7343</td>\n",
       "    </tr>\n",
       "    <tr>\n",
       "      <td>2</td>\n",
       "      <td>3.0</td>\n",
       "      <td>浙江大学</td>\n",
       "      <td>浙江省</td>\n",
       "      <td>80.0</td>\n",
       "      <td>88.8</td>\n",
       "      <td>96.46%</td>\n",
       "      <td>41188</td>\n",
       "      <td>1.059</td>\n",
       "      <td>803</td>\n",
       "      <td>86</td>\n",
       "      <td>959511</td>\n",
       "      <td>833</td>\n",
       "      <td>64392</td>\n",
       "    </tr>\n",
       "    <tr>\n",
       "      <td>3</td>\n",
       "      <td>4.0</td>\n",
       "      <td>上海交通大学</td>\n",
       "      <td>上海市</td>\n",
       "      <td>78.7</td>\n",
       "      <td>90.6</td>\n",
       "      <td>96.76%</td>\n",
       "      <td>40417</td>\n",
       "      <td>1.08</td>\n",
       "      <td>730</td>\n",
       "      <td>76</td>\n",
       "      <td>688607</td>\n",
       "      <td>909</td>\n",
       "      <td>104871</td>\n",
       "    </tr>\n",
       "    <tr>\n",
       "      <td>4</td>\n",
       "      <td>5.0</td>\n",
       "      <td>复旦大学</td>\n",
       "      <td>上海市</td>\n",
       "      <td>70.9</td>\n",
       "      <td>90.4</td>\n",
       "      <td>97.04%</td>\n",
       "      <td>25519</td>\n",
       "      <td>1.311</td>\n",
       "      <td>687</td>\n",
       "      <td>58</td>\n",
       "      <td>246736</td>\n",
       "      <td>534</td>\n",
       "      <td>2088</td>\n",
       "    </tr>\n",
       "    <tr>\n",
       "      <td>...</td>\n",
       "      <td>...</td>\n",
       "      <td>...</td>\n",
       "      <td>...</td>\n",
       "      <td>...</td>\n",
       "      <td>...</td>\n",
       "      <td>...</td>\n",
       "      <td>...</td>\n",
       "      <td>...</td>\n",
       "      <td>...</td>\n",
       "      <td>...</td>\n",
       "      <td>...</td>\n",
       "      <td>...</td>\n",
       "      <td>...</td>\n",
       "    </tr>\n",
       "    <tr>\n",
       "      <td>495</td>\n",
       "      <td>NaN</td>\n",
       "      <td>NaN</td>\n",
       "      <td>NaN</td>\n",
       "      <td>NaN</td>\n",
       "      <td>0</td>\n",
       "      <td>0</td>\n",
       "      <td>0</td>\n",
       "      <td>0</td>\n",
       "      <td>0</td>\n",
       "      <td>0</td>\n",
       "      <td>0</td>\n",
       "      <td>0</td>\n",
       "      <td>0</td>\n",
       "    </tr>\n",
       "    <tr>\n",
       "      <td>496</td>\n",
       "      <td>NaN</td>\n",
       "      <td>NaN</td>\n",
       "      <td>NaN</td>\n",
       "      <td>NaN</td>\n",
       "      <td>0.12%</td>\n",
       "      <td>0.12%</td>\n",
       "      <td>0.12%</td>\n",
       "      <td>0.12%</td>\n",
       "      <td>0.12%</td>\n",
       "      <td>0.12%</td>\n",
       "      <td>0.12%</td>\n",
       "      <td>0.12%</td>\n",
       "      <td>0.12%</td>\n",
       "    </tr>\n",
       "    <tr>\n",
       "      <td>497</td>\n",
       "      <td>NaN</td>\n",
       "      <td>NaN</td>\n",
       "      <td>NaN</td>\n",
       "      <td>NaN</td>\n",
       "      <td>0</td>\n",
       "      <td>0</td>\n",
       "      <td>0</td>\n",
       "      <td>0</td>\n",
       "      <td>0</td>\n",
       "      <td>0</td>\n",
       "      <td>0</td>\n",
       "      <td>0</td>\n",
       "      <td>0</td>\n",
       "    </tr>\n",
       "    <tr>\n",
       "      <td>498</td>\n",
       "      <td>NaN</td>\n",
       "      <td>NaN</td>\n",
       "      <td>NaN</td>\n",
       "      <td>NaN</td>\n",
       "      <td>1.11%</td>\n",
       "      <td>1.11%</td>\n",
       "      <td>1.11%</td>\n",
       "      <td>1.11%</td>\n",
       "      <td>1.11%</td>\n",
       "      <td>1.11%</td>\n",
       "      <td>1.11%</td>\n",
       "      <td>1.11%</td>\n",
       "      <td>1.11%</td>\n",
       "    </tr>\n",
       "    <tr>\n",
       "      <td>499</td>\n",
       "      <td>NaN</td>\n",
       "      <td>NaN</td>\n",
       "      <td>NaN</td>\n",
       "      <td>NaN</td>\n",
       "      <td>0</td>\n",
       "      <td>0</td>\n",
       "      <td>0</td>\n",
       "      <td>0</td>\n",
       "      <td>0</td>\n",
       "      <td>0</td>\n",
       "      <td>0</td>\n",
       "      <td>0</td>\n",
       "      <td>0</td>\n",
       "    </tr>\n",
       "  </tbody>\n",
       "</table>\n",
       "<p>500 rows × 13 columns</p>\n",
       "</div>"
      ],
      "text/plain": [
       "      排名    学校名称   省市    总分   生源质量    培养结果   科研规模   科研质量   顶尖成果   顶尖人才  \\\n",
       "0    1.0    清华大学  北京市  95.9    100  97.90%  37342  1.298   1177    109   \n",
       "1    2.0    北京大学  北京市  82.6   98.9  95.96%  36137  1.294    986     87   \n",
       "2    3.0    浙江大学  浙江省  80.0   88.8  96.46%  41188  1.059    803     86   \n",
       "3    4.0  上海交通大学  上海市  78.7   90.6  96.76%  40417   1.08    730     76   \n",
       "4    5.0    复旦大学  上海市  70.9   90.4  97.04%  25519  1.311    687     58   \n",
       "..   ...     ...  ...   ...    ...     ...    ...    ...    ...    ...   \n",
       "495  NaN     NaN  NaN   NaN      0       0      0      0      0      0   \n",
       "496  NaN     NaN  NaN   NaN  0.12%   0.12%  0.12%  0.12%  0.12%  0.12%   \n",
       "497  NaN     NaN  NaN   NaN      0       0      0      0      0      0   \n",
       "498  NaN     NaN  NaN   NaN  1.11%   1.11%  1.11%  1.11%  1.11%  1.11%   \n",
       "499  NaN     NaN  NaN   NaN      0       0      0      0      0      0   \n",
       "\n",
       "        科技服务  产学研合作    成果转化  \n",
       "0    1137711   1187  593522  \n",
       "1     439403    799    7343  \n",
       "2     959511    833   64392  \n",
       "3     688607    909  104871  \n",
       "4     246736    534    2088  \n",
       "..       ...    ...     ...  \n",
       "495        0      0       0  \n",
       "496    0.12%  0.12%   0.12%  \n",
       "497        0      0       0  \n",
       "498    1.11%  1.11%   1.11%  \n",
       "499        0      0       0  \n",
       "\n",
       "[500 rows x 13 columns]"
      ]
     },
     "execution_count": 16,
     "metadata": {},
     "output_type": "execute_result"
    }
   ],
   "source": [
    "df2016"
   ]
  },
  {
   "cell_type": "code",
   "execution_count": 17,
   "metadata": {},
   "outputs": [
    {
     "name": "stdout",
     "output_type": "stream",
     "text": [
      "<class 'pandas.core.frame.DataFrame'>\n",
      "RangeIndex: 500 entries, 0 to 499\n",
      "Data columns (total 13 columns):\n",
      "排名       310 non-null float64\n",
      "学校名称     310 non-null object\n",
      "省市       310 non-null object\n",
      "总分       310 non-null float64\n",
      "生源质量     500 non-null object\n",
      "培养结果     500 non-null object\n",
      "科研规模     500 non-null object\n",
      "科研质量     500 non-null object\n",
      "顶尖成果     500 non-null object\n",
      "顶尖人才     348 non-null object\n",
      "科技服务     500 non-null object\n",
      "产学研合作    500 non-null object\n",
      "成果转化     500 non-null object\n",
      "dtypes: float64(2), object(11)\n",
      "memory usage: 50.9+ KB\n"
     ]
    }
   ],
   "source": [
    "df2016.info()"
   ]
  },
  {
   "cell_type": "code",
   "execution_count": 19,
   "metadata": {},
   "outputs": [
    {
     "data": {
      "text/html": [
       "<div>\n",
       "<style scoped>\n",
       "    .dataframe tbody tr th:only-of-type {\n",
       "        vertical-align: middle;\n",
       "    }\n",
       "\n",
       "    .dataframe tbody tr th {\n",
       "        vertical-align: top;\n",
       "    }\n",
       "\n",
       "    .dataframe thead th {\n",
       "        text-align: right;\n",
       "    }\n",
       "</style>\n",
       "<table border=\"1\" class=\"dataframe\">\n",
       "  <thead>\n",
       "    <tr style=\"text-align: right;\">\n",
       "      <th></th>\n",
       "      <th>排名</th>\n",
       "      <th>学校名称</th>\n",
       "      <th>省市</th>\n",
       "      <th>总分</th>\n",
       "      <th>生源质量</th>\n",
       "      <th>培养结果</th>\n",
       "      <th>科研规模</th>\n",
       "      <th>科研质量</th>\n",
       "      <th>顶尖成果</th>\n",
       "      <th>顶尖人才</th>\n",
       "      <th>科技服务</th>\n",
       "      <th>产学研合作</th>\n",
       "      <th>成果转化</th>\n",
       "    </tr>\n",
       "  </thead>\n",
       "  <tbody>\n",
       "    <tr>\n",
       "      <td>309</td>\n",
       "      <td>310.0</td>\n",
       "      <td>德州学院</td>\n",
       "      <td>山东省</td>\n",
       "      <td>21.5</td>\n",
       "      <td>15.3</td>\n",
       "      <td>87.86%</td>\n",
       "      <td>614</td>\n",
       "      <td>0.502</td>\n",
       "      <td>3</td>\n",
       "      <td>NaN</td>\n",
       "      <td>966</td>\n",
       "      <td>2</td>\n",
       "      <td>0</td>\n",
       "    </tr>\n",
       "    <tr>\n",
       "      <td>310</td>\n",
       "      <td>NaN</td>\n",
       "      <td>NaN</td>\n",
       "      <td>NaN</td>\n",
       "      <td>NaN</td>\n",
       "      <td>6.24%</td>\n",
       "      <td>6.24%</td>\n",
       "      <td>6.24%</td>\n",
       "      <td>6.24%</td>\n",
       "      <td>6.24%</td>\n",
       "      <td>6.24%</td>\n",
       "      <td>6.24%</td>\n",
       "      <td>6.24%</td>\n",
       "      <td>6.24%</td>\n",
       "    </tr>\n",
       "    <tr>\n",
       "      <td>311</td>\n",
       "      <td>NaN</td>\n",
       "      <td>NaN</td>\n",
       "      <td>NaN</td>\n",
       "      <td>NaN</td>\n",
       "      <td>0.66%</td>\n",
       "      <td>0.66%</td>\n",
       "      <td>0.66%</td>\n",
       "      <td>0.66%</td>\n",
       "      <td>0.66%</td>\n",
       "      <td>0.66%</td>\n",
       "      <td>0.66%</td>\n",
       "      <td>0.66%</td>\n",
       "      <td>0.66%</td>\n",
       "    </tr>\n",
       "    <tr>\n",
       "      <td>312</td>\n",
       "      <td>NaN</td>\n",
       "      <td>NaN</td>\n",
       "      <td>NaN</td>\n",
       "      <td>NaN</td>\n",
       "      <td>0</td>\n",
       "      <td>0</td>\n",
       "      <td>0</td>\n",
       "      <td>0</td>\n",
       "      <td>0</td>\n",
       "      <td>0</td>\n",
       "      <td>0</td>\n",
       "      <td>0</td>\n",
       "      <td>0</td>\n",
       "    </tr>\n",
       "    <tr>\n",
       "      <td>313</td>\n",
       "      <td>NaN</td>\n",
       "      <td>NaN</td>\n",
       "      <td>NaN</td>\n",
       "      <td>NaN</td>\n",
       "      <td>0.27%</td>\n",
       "      <td>0.27%</td>\n",
       "      <td>0.27%</td>\n",
       "      <td>0.27%</td>\n",
       "      <td>0.27%</td>\n",
       "      <td>0.27%</td>\n",
       "      <td>0.27%</td>\n",
       "      <td>0.27%</td>\n",
       "      <td>0.27%</td>\n",
       "    </tr>\n",
       "    <tr>\n",
       "      <td>...</td>\n",
       "      <td>...</td>\n",
       "      <td>...</td>\n",
       "      <td>...</td>\n",
       "      <td>...</td>\n",
       "      <td>...</td>\n",
       "      <td>...</td>\n",
       "      <td>...</td>\n",
       "      <td>...</td>\n",
       "      <td>...</td>\n",
       "      <td>...</td>\n",
       "      <td>...</td>\n",
       "      <td>...</td>\n",
       "      <td>...</td>\n",
       "    </tr>\n",
       "    <tr>\n",
       "      <td>495</td>\n",
       "      <td>NaN</td>\n",
       "      <td>NaN</td>\n",
       "      <td>NaN</td>\n",
       "      <td>NaN</td>\n",
       "      <td>0</td>\n",
       "      <td>0</td>\n",
       "      <td>0</td>\n",
       "      <td>0</td>\n",
       "      <td>0</td>\n",
       "      <td>0</td>\n",
       "      <td>0</td>\n",
       "      <td>0</td>\n",
       "      <td>0</td>\n",
       "    </tr>\n",
       "    <tr>\n",
       "      <td>496</td>\n",
       "      <td>NaN</td>\n",
       "      <td>NaN</td>\n",
       "      <td>NaN</td>\n",
       "      <td>NaN</td>\n",
       "      <td>0.12%</td>\n",
       "      <td>0.12%</td>\n",
       "      <td>0.12%</td>\n",
       "      <td>0.12%</td>\n",
       "      <td>0.12%</td>\n",
       "      <td>0.12%</td>\n",
       "      <td>0.12%</td>\n",
       "      <td>0.12%</td>\n",
       "      <td>0.12%</td>\n",
       "    </tr>\n",
       "    <tr>\n",
       "      <td>497</td>\n",
       "      <td>NaN</td>\n",
       "      <td>NaN</td>\n",
       "      <td>NaN</td>\n",
       "      <td>NaN</td>\n",
       "      <td>0</td>\n",
       "      <td>0</td>\n",
       "      <td>0</td>\n",
       "      <td>0</td>\n",
       "      <td>0</td>\n",
       "      <td>0</td>\n",
       "      <td>0</td>\n",
       "      <td>0</td>\n",
       "      <td>0</td>\n",
       "    </tr>\n",
       "    <tr>\n",
       "      <td>498</td>\n",
       "      <td>NaN</td>\n",
       "      <td>NaN</td>\n",
       "      <td>NaN</td>\n",
       "      <td>NaN</td>\n",
       "      <td>1.11%</td>\n",
       "      <td>1.11%</td>\n",
       "      <td>1.11%</td>\n",
       "      <td>1.11%</td>\n",
       "      <td>1.11%</td>\n",
       "      <td>1.11%</td>\n",
       "      <td>1.11%</td>\n",
       "      <td>1.11%</td>\n",
       "      <td>1.11%</td>\n",
       "    </tr>\n",
       "    <tr>\n",
       "      <td>499</td>\n",
       "      <td>NaN</td>\n",
       "      <td>NaN</td>\n",
       "      <td>NaN</td>\n",
       "      <td>NaN</td>\n",
       "      <td>0</td>\n",
       "      <td>0</td>\n",
       "      <td>0</td>\n",
       "      <td>0</td>\n",
       "      <td>0</td>\n",
       "      <td>0</td>\n",
       "      <td>0</td>\n",
       "      <td>0</td>\n",
       "      <td>0</td>\n",
       "    </tr>\n",
       "  </tbody>\n",
       "</table>\n",
       "<p>191 rows × 13 columns</p>\n",
       "</div>"
      ],
      "text/plain": [
       "        排名  学校名称   省市    总分   生源质量    培养结果   科研规模   科研质量   顶尖成果   顶尖人才   科技服务  \\\n",
       "309  310.0  德州学院  山东省  21.5   15.3  87.86%    614  0.502      3    NaN    966   \n",
       "310    NaN   NaN  NaN   NaN  6.24%   6.24%  6.24%  6.24%  6.24%  6.24%  6.24%   \n",
       "311    NaN   NaN  NaN   NaN  0.66%   0.66%  0.66%  0.66%  0.66%  0.66%  0.66%   \n",
       "312    NaN   NaN  NaN   NaN      0       0      0      0      0      0      0   \n",
       "313    NaN   NaN  NaN   NaN  0.27%   0.27%  0.27%  0.27%  0.27%  0.27%  0.27%   \n",
       "..     ...   ...  ...   ...    ...     ...    ...    ...    ...    ...    ...   \n",
       "495    NaN   NaN  NaN   NaN      0       0      0      0      0      0      0   \n",
       "496    NaN   NaN  NaN   NaN  0.12%   0.12%  0.12%  0.12%  0.12%  0.12%  0.12%   \n",
       "497    NaN   NaN  NaN   NaN      0       0      0      0      0      0      0   \n",
       "498    NaN   NaN  NaN   NaN  1.11%   1.11%  1.11%  1.11%  1.11%  1.11%  1.11%   \n",
       "499    NaN   NaN  NaN   NaN      0       0      0      0      0      0      0   \n",
       "\n",
       "     产学研合作   成果转化  \n",
       "309      2      0  \n",
       "310  6.24%  6.24%  \n",
       "311  0.66%  0.66%  \n",
       "312      0      0  \n",
       "313  0.27%  0.27%  \n",
       "..     ...    ...  \n",
       "495      0      0  \n",
       "496  0.12%  0.12%  \n",
       "497      0      0  \n",
       "498  1.11%  1.11%  \n",
       "499      0      0  \n",
       "\n",
       "[191 rows x 13 columns]"
      ]
     },
     "execution_count": 19,
     "metadata": {},
     "output_type": "execute_result"
    }
   ],
   "source": [
    "df2016[309:]"
   ]
  },
  {
   "cell_type": "code",
   "execution_count": 20,
   "metadata": {
    "scrolled": true
   },
   "outputs": [
    {
     "data": {
      "text/plain": [
       "Index(['排名', '学校名称', '省市', '总分', '人才培养得分', '科学研究得分', '社会服务得分', '生源质量', '培养成果',\n",
       "       '人才培养得分.1', '科研规模', '科研质量', '顶尖成果', '顶尖人才', '科学研究得分.1'],\n",
       "      dtype='object')"
      ]
     },
     "execution_count": 20,
     "metadata": {},
     "output_type": "execute_result"
    }
   ],
   "source": [
    "df2015.columns"
   ]
  },
  {
   "cell_type": "code",
   "execution_count": 21,
   "metadata": {},
   "outputs": [
    {
     "data": {
      "text/plain": [
       "Index(['排名', '学校名称', '省市', '总分', '生源质量', '培养结果', '科研规模', '科研质量', '顶尖成果',\n",
       "       '顶尖人才', '科技服务', '产学研合作', '成果转化'],\n",
       "      dtype='object')"
      ]
     },
     "execution_count": 21,
     "metadata": {},
     "output_type": "execute_result"
    }
   ],
   "source": [
    "df2016.columns"
   ]
  },
  {
   "cell_type": "code",
   "execution_count": 28,
   "metadata": {},
   "outputs": [
    {
     "name": "stdout",
     "output_type": "stream",
     "text": [
      "      排名    学校名称   省市    总分 人才培养得分  科学研究得分  社会服务得分   生源质量    培养成果  人才培养得分.1  \\\n",
      "0    1.0    清华大学   北京  94.1   44.7    37.9    11.5    100  97.90%      44.7   \n",
      "1    2.0    北京大学   北京  81.0   43.7    34.1     3.2   97.8  95.96%      43.7   \n",
      "2    3.0    浙江大学   浙江  79.9   41.1    32.0     6.8   88.7  96.46%      41.1   \n",
      "3    4.0  上海交通大学   上海  78.4   41.9    30.4     6.0   91.2  96.76%      41.9   \n",
      "4    5.0    复旦大学   上海  71.7   42.4    27.2     2.1   92.8  97.04%      42.4   \n",
      "..   ...     ...  ...   ...    ...     ...     ...    ...     ...       ...   \n",
      "495  NaN     NaN  NaN   NaN      0     NaN     NaN      0     NaN       NaN   \n",
      "496  NaN     NaN  NaN   NaN  0.12%     NaN     NaN  0.12%     NaN       NaN   \n",
      "497  NaN     NaN  NaN   NaN      0     NaN     NaN      0     NaN       NaN   \n",
      "498  NaN     NaN  NaN   NaN  1.11%     NaN     NaN  1.11%     NaN       NaN   \n",
      "499  NaN     NaN  NaN   NaN      0     NaN     NaN      0     NaN       NaN   \n",
      "\n",
      "      科研规模  科研质量   顶尖成果   顶尖人才  科学研究得分.1  \n",
      "0    35134  1.19  970.0  104.0      37.9  \n",
      "1    33049  1.25  792.0   84.0      34.1  \n",
      "2    38367  1.01  685.0   78.0      32.0  \n",
      "3    37740  1.01  613.0   71.0      30.4  \n",
      "4    23479  1.26  612.0   57.0      27.2  \n",
      "..     ...   ...    ...    ...       ...  \n",
      "495      0   NaN    NaN    NaN       NaN  \n",
      "496  0.12%   NaN    NaN    NaN       NaN  \n",
      "497      0   NaN    NaN    NaN       NaN  \n",
      "498  1.11%   NaN    NaN    NaN       NaN  \n",
      "499      0   NaN    NaN    NaN       NaN  \n",
      "\n",
      "[500 rows x 15 columns]\n",
      "      排名    学校名称   省市    总分   生源质量    培养结果   科研规模   科研质量   顶尖成果   顶尖人才  \\\n",
      "0    1.0    清华大学  北京市  95.9    100  97.90%  37342  1.298   1177    109   \n",
      "1    2.0    北京大学  北京市  82.6   98.9  95.96%  36137  1.294    986     87   \n",
      "2    3.0    浙江大学  浙江省  80.0   88.8  96.46%  41188  1.059    803     86   \n",
      "3    4.0  上海交通大学  上海市  78.7   90.6  96.76%  40417   1.08    730     76   \n",
      "4    5.0    复旦大学  上海市  70.9   90.4  97.04%  25519  1.311    687     58   \n",
      "..   ...     ...  ...   ...    ...     ...    ...    ...    ...    ...   \n",
      "495  NaN     NaN  NaN   NaN      0       0      0      0      0      0   \n",
      "496  NaN     NaN  NaN   NaN  0.12%   0.12%  0.12%  0.12%  0.12%  0.12%   \n",
      "497  NaN     NaN  NaN   NaN      0       0      0      0      0      0   \n",
      "498  NaN     NaN  NaN   NaN  1.11%   1.11%  1.11%  1.11%  1.11%  1.11%   \n",
      "499  NaN     NaN  NaN   NaN      0       0      0      0      0      0   \n",
      "\n",
      "        科技服务  产学研合作    成果转化  \n",
      "0    1137711   1187  593522  \n",
      "1     439403    799    7343  \n",
      "2     959511    833   64392  \n",
      "3     688607    909  104871  \n",
      "4     246736    534    2088  \n",
      "..       ...    ...     ...  \n",
      "495        0      0       0  \n",
      "496    0.12%  0.12%   0.12%  \n",
      "497        0      0       0  \n",
      "498    1.11%  1.11%   1.11%  \n",
      "499        0      0       0  \n",
      "\n",
      "[500 rows x 13 columns]\n",
      "      排名        学校名称  省市    总分   生源质量 培养结果（毕业生就业率）  科研规模（论文数量）  科研质量（论文质量）  \\\n",
      "0      1        清华大学  北京  94.0  100.0       97.70%       40938        1.38   \n",
      "1      2        北京大学  北京  81.2   96.1       97.61%       39853        1.33   \n",
      "2      3        浙江大学  浙江  77.8   87.2       97.91%       44509        1.11   \n",
      "3      4      上海交通大学  上海  77.5   89.4       98.62%       44674        1.13   \n",
      "4      5        复旦大学  上海  71.1   91.8       97.85%       28205        1.35   \n",
      "..   ...         ...  ..   ...    ...          ...         ...         ...   \n",
      "495  492        泰山学院  山东  24.1   15.9       90.97%         359        0.84   \n",
      "496  492      浙江万里学院  浙江  24.1   15.7       95.41%         425        0.74   \n",
      "497  498        滨州学院  山东  24.0   16.2       95.47%         399        0.71   \n",
      "498  498  天津职业技术师范大学  天津  24.0   31.1          NaN         462        0.57   \n",
      "499  500        邵阳学院  湖南  23.9   23.8       90.29%         225        0.48   \n",
      "\n",
      "     顶尖成果（高被引论文数量）  顶尖成果（高被引人才）  科研服务（企业科研经费）  成果转化（技术转化收入） 学生国际化（留学生比率）  \n",
      "0             1373          111       1263428        613524        7.04%  \n",
      "1             1137           90        470237         31652        6.16%  \n",
      "2              921           88       1107921         23240        4.67%  \n",
      "3              836           79        796668         94339        6.30%  \n",
      "4              758           57        246629          6221        6.78%  \n",
      "..             ...          ...           ...           ...          ...  \n",
      "495              4            0          3680          3680            0  \n",
      "496              4            0          1503             0        0.12%  \n",
      "497              4            0           284             0            0  \n",
      "498              3            0         20984           750        1.11%  \n",
      "499              0            0           335           360            0  \n",
      "\n",
      "[500 rows x 13 columns]\n",
      "       排名    学校名称   省市    总分  生源质量（新生高考成绩得分） 培养结果（毕业生就业率）  社会声誉（社会捐赠收入.千元）  \\\n",
      "0     1.0    清华大学   北京  95.3           100.0       97.50%         1.18e+06   \n",
      "1     2.0    北京大学   北京  78.6            96.4       97.39%         6.66e+05   \n",
      "2     3.0    浙江大学   浙江  73.9            86.3       96.56%         4.52e+05   \n",
      "3     4.0  上海交通大学   上海  73.1            90.5       98.65%         2.26e+05   \n",
      "4     5.0    复旦大学   上海  66.0            91.5       97.23%         2.57e+05   \n",
      "...   ...     ...  ...   ...             ...          ...              ...   \n",
      "1101  NaN     NaN  NaN   NaN             NaN          NaN              NaN   \n",
      "1102  NaN     NaN  NaN   NaN             NaN          NaN              NaN   \n",
      "1103  NaN     NaN  NaN   NaN             NaN          NaN              NaN   \n",
      "1104  NaN     NaN  NaN   NaN             NaN          NaN              NaN   \n",
      "1105  NaN     NaN  NaN   NaN             NaN          NaN              NaN   \n",
      "\n",
      "      科研规模（论文数量.篇） 科研质量（论文质量.FWCI）  顶尖成果（高被引论文.篇）  顶尖人才（高被引学者.人）  \\\n",
      "0          44730.0           1.447         1556.0          121.0   \n",
      "1          43731.0           1.374         1278.0           94.0   \n",
      "2          47915.0           1.131          939.0           91.0   \n",
      "3          49749.0           1.176          960.0           79.0   \n",
      "4          31039.0           1.371          777.0           56.0   \n",
      "...            ...             ...            ...            ...   \n",
      "1101           NaN             NaN            0.0            0.0   \n",
      "1102           NaN             NaN            NaN            0.0   \n",
      "1103           NaN             NaN            NaN            NaN   \n",
      "1104           NaN             NaN            NaN            NaN   \n",
      "1105           NaN             NaN            NaN            NaN   \n",
      "\n",
      "      科技服务（企业科研经费.千元）  成果转让（技术转让收入.千元） 学生国际化（留学生比率）  \n",
      "0            1.59e+06         500525.0        6.90%  \n",
      "1            4.81e+05           4110.0        6.01%  \n",
      "2            1.27e+06          27720.0        5.18%  \n",
      "3            7.43e+05          15264.0        7.33%  \n",
      "4            2.44e+05           5349.0        6.66%  \n",
      "...               ...              ...          ...  \n",
      "1101         4.63e+03              0.0            0  \n",
      "1102         0.00e+00           4626.0            0  \n",
      "1103         0.00e+00              0.0         4626  \n",
      "1104              NaN              0.0            0  \n",
      "1105              NaN              NaN            0  \n",
      "\n",
      "[1106 rows x 14 columns]\n",
      "       排名    学校名称   省市    总分  生源质量（新生高考成绩得分） 培养结果（毕业生就业率）  社会声誉（社会捐赠收入.千元）  \\\n",
      "0     1.0    清华大学   北京  94.6           100.0       98.30%         1.59e+06   \n",
      "1     2.0    北京大学   北京  76.5            95.2       98.07%         5.70e+05   \n",
      "2     3.0    浙江大学   浙江  72.9            84.2       96.05%         3.53e+05   \n",
      "3     4.0  上海交通大学   上海  72.1            91.1       97.92%         2.75e+05   \n",
      "4     5.0    复旦大学   上海  65.6            91.6       96.09%         2.51e+05   \n",
      "...   ...     ...  ...   ...             ...          ...              ...   \n",
      "1096  NaN     NaN  NaN   NaN             NaN          NaN         0.00e+00   \n",
      "1097  NaN     NaN  NaN   NaN             NaN          NaN         0.00e+00   \n",
      "1098  NaN     NaN  NaN   NaN             NaN          NaN              NaN   \n",
      "1099  NaN     NaN  NaN   NaN             NaN          NaN              NaN   \n",
      "1100  NaN     NaN  NaN   NaN             NaN          NaN              NaN   \n",
      "\n",
      "      科研规模（论文数量.篇） 科研质量（论文质量.FWCI）  顶尖成果（高被引论文.篇）  顶尖人才（高被引学者.人）  \\\n",
      "0          48698.0           1.512         1810.0          126.0   \n",
      "1          47161.0           1.409         1402.0          100.0   \n",
      "2          52249.0           1.197         1140.0           91.0   \n",
      "3          54447.0           1.201         1108.0           81.0   \n",
      "4          35028.0           1.384          828.0           57.0   \n",
      "...            ...             ...            ...            ...   \n",
      "1096        4626.0               0            0.0            0.0   \n",
      "1097           0.0            4626         4626.0         4626.0   \n",
      "1098           0.0               0            0.0            0.0   \n",
      "1099           NaN               0            0.0            0.0   \n",
      "1100           NaN             NaN            NaN            NaN   \n",
      "\n",
      "      科技服务（企业科研经费.千元）  成果转让（技术转让收入.千元） 学生国际化（留学生比率）  \n",
      "0             1697330           302898        6.81%  \n",
      "1              554680            14445        6.15%  \n",
      "2             1179094           101208        5.71%  \n",
      "3              875715            12574        6.05%  \n",
      "4              348338            65034        6.77%  \n",
      "...               ...              ...          ...  \n",
      "1096                0                0            0  \n",
      "1097                0                0            0  \n",
      "1098             4626             4626         4626  \n",
      "1099                0                0            0  \n",
      "1100                0                0            0  \n",
      "\n",
      "[1101 rows x 14 columns]\n",
      "      排名      学校名称  省市 学校类型     总分  办学层次得分  学科水平得分  办学资源得分  师资规模与结构得分  人才培养得分  \\\n",
      "0      1      清华大学  北京   综合  852.5    38.2    72.4    39.6       48.4   256.8   \n",
      "1      2      北京大学  北京   综合  746.7    36.1    73.1    24.6       49.2   237.6   \n",
      "2      3      浙江大学  浙江   综合  649.2    33.9    65.3    20.1       48.3   215.3   \n",
      "3      4    上海交通大学  上海   综合  625.9    35.4    53.6    22.1       43.8   192.8   \n",
      "4      5      南京大学  江苏   综合  566.1    35.1    47.8    10.3       47.4   218.6   \n",
      "..   ...       ...  ..  ...    ...     ...     ...     ...        ...     ...   \n",
      "562  563  山东农业工程学院  山东   综合   62.6     NaN     NaN     NaN        NaN     NaN   \n",
      "563  564    西安航空学院  陕西   理工   62.4     NaN     NaN     NaN        NaN     NaN   \n",
      "564  565      太原学院  山西   理工   60.0     NaN     NaN     NaN        NaN     NaN   \n",
      "565  566      亳州学院  安徽   师范   58.9     NaN     NaN     NaN        NaN     NaN   \n",
      "566  567     首钢工学院  北京   理工   55.9     NaN     NaN     NaN        NaN     NaN   \n",
      "\n",
      "     科学研究得分  社会服务得分  高端人才得分  重大项目与成果得分  国际竞争力得分  \n",
      "0      69.1    40.6    76.5      131.0     79.9  \n",
      "1      71.0    16.2    71.9      105.8     61.2  \n",
      "2      68.6    23.9    49.1       81.7     43.0  \n",
      "3      81.2    18.1    45.8       93.0     40.1  \n",
      "4      59.6     5.3    42.0       71.2     29.0  \n",
      "..      ...     ...     ...        ...      ...  \n",
      "562     NaN     NaN     NaN        NaN      NaN  \n",
      "563     NaN     NaN     NaN        NaN      NaN  \n",
      "564     NaN     NaN     NaN        NaN      NaN  \n",
      "565     NaN     NaN     NaN        NaN      NaN  \n",
      "566     NaN     NaN     NaN        NaN      NaN  \n",
      "\n",
      "[567 rows x 15 columns]\n"
     ]
    }
   ],
   "source": [
    "for year in range(2015,2021):\n",
    "    path = f'data/{year}年中国大学排名.csv'\n",
    "    df_year = pd.read_csv(path)\n",
    "    print(df_year)"
   ]
  },
  {
   "cell_type": "code",
   "execution_count": 33,
   "metadata": {},
   "outputs": [],
   "source": [
    "all_years = []\n",
    "for year in range(2015,2021):    #批量读取数据\n",
    "    path = f'data/{year}年中国大学排名.csv'    #构造路径\n",
    "    df_year = pd.read_csv(path,usecols=['排名','学校名称','省市','总分']) #读取当前文件\n",
    "    df_year.dropna(inplace=True)  #去除缺失值\n",
    "    if year == 2020:  #2020总分压缩\n",
    "        df_year['总分'] = df_year['总分']/9\n",
    "    df_year['年份'] = year  #添加年份列\n",
    "    all_years.append(df_year)  #存入列表\n",
    "df = pd.concat(all_years,ignore_index=True)  #合并数据"
   ]
  },
  {
   "cell_type": "code",
   "execution_count": 34,
   "metadata": {},
   "outputs": [
    {
     "name": "stdout",
     "output_type": "stream",
     "text": [
      "<class 'pandas.core.frame.DataFrame'>\n",
      "RangeIndex: 2719 entries, 0 to 2718\n",
      "Data columns (total 5 columns):\n",
      "排名      2719 non-null float64\n",
      "学校名称    2719 non-null object\n",
      "省市      2719 non-null object\n",
      "总分      2719 non-null float64\n",
      "年份      2719 non-null int64\n",
      "dtypes: float64(2), int64(1), object(2)\n",
      "memory usage: 106.3+ KB\n"
     ]
    }
   ],
   "source": [
    "df.info()"
   ]
  },
  {
   "cell_type": "code",
   "execution_count": 35,
   "metadata": {},
   "outputs": [
    {
     "data": {
      "text/html": [
       "<div>\n",
       "<style scoped>\n",
       "    .dataframe tbody tr th:only-of-type {\n",
       "        vertical-align: middle;\n",
       "    }\n",
       "\n",
       "    .dataframe tbody tr th {\n",
       "        vertical-align: top;\n",
       "    }\n",
       "\n",
       "    .dataframe thead th {\n",
       "        text-align: right;\n",
       "    }\n",
       "</style>\n",
       "<table border=\"1\" class=\"dataframe\">\n",
       "  <thead>\n",
       "    <tr style=\"text-align: right;\">\n",
       "      <th></th>\n",
       "      <th>排名</th>\n",
       "      <th>学校名称</th>\n",
       "      <th>省市</th>\n",
       "      <th>总分</th>\n",
       "      <th>年份</th>\n",
       "    </tr>\n",
       "  </thead>\n",
       "  <tbody>\n",
       "    <tr>\n",
       "      <td>2714</td>\n",
       "      <td>563.0</td>\n",
       "      <td>山东农业工程学院</td>\n",
       "      <td>山东</td>\n",
       "      <td>6.96</td>\n",
       "      <td>2020</td>\n",
       "    </tr>\n",
       "    <tr>\n",
       "      <td>2715</td>\n",
       "      <td>564.0</td>\n",
       "      <td>西安航空学院</td>\n",
       "      <td>陕西</td>\n",
       "      <td>6.93</td>\n",
       "      <td>2020</td>\n",
       "    </tr>\n",
       "    <tr>\n",
       "      <td>2716</td>\n",
       "      <td>565.0</td>\n",
       "      <td>太原学院</td>\n",
       "      <td>山西</td>\n",
       "      <td>6.67</td>\n",
       "      <td>2020</td>\n",
       "    </tr>\n",
       "    <tr>\n",
       "      <td>2717</td>\n",
       "      <td>566.0</td>\n",
       "      <td>亳州学院</td>\n",
       "      <td>安徽</td>\n",
       "      <td>6.54</td>\n",
       "      <td>2020</td>\n",
       "    </tr>\n",
       "    <tr>\n",
       "      <td>2718</td>\n",
       "      <td>567.0</td>\n",
       "      <td>首钢工学院</td>\n",
       "      <td>北京</td>\n",
       "      <td>6.21</td>\n",
       "      <td>2020</td>\n",
       "    </tr>\n",
       "  </tbody>\n",
       "</table>\n",
       "</div>"
      ],
      "text/plain": [
       "         排名      学校名称  省市    总分    年份\n",
       "2714  563.0  山东农业工程学院  山东  6.96  2020\n",
       "2715  564.0    西安航空学院  陕西  6.93  2020\n",
       "2716  565.0      太原学院  山西  6.67  2020\n",
       "2717  566.0      亳州学院  安徽  6.54  2020\n",
       "2718  567.0     首钢工学院  北京  6.21  2020"
      ]
     },
     "execution_count": 35,
     "metadata": {},
     "output_type": "execute_result"
    }
   ],
   "source": [
    "df.tail()"
   ]
  },
  {
   "cell_type": "code",
   "execution_count": 37,
   "metadata": {},
   "outputs": [],
   "source": [
    "df['排名'] = df['排名'].astype('int')"
   ]
  },
  {
   "cell_type": "code",
   "execution_count": 38,
   "metadata": {},
   "outputs": [],
   "source": [
    "df.rename(columns={'学校名称':'学校'},inplace=True)"
   ]
  },
  {
   "cell_type": "code",
   "execution_count": 39,
   "metadata": {},
   "outputs": [
    {
     "name": "stdout",
     "output_type": "stream",
     "text": [
      "<class 'pandas.core.frame.DataFrame'>\n",
      "RangeIndex: 2719 entries, 0 to 2718\n",
      "Data columns (total 5 columns):\n",
      "排名    2719 non-null int32\n",
      "学校    2719 non-null object\n",
      "省市    2719 non-null object\n",
      "总分    2719 non-null float64\n",
      "年份    2719 non-null int64\n",
      "dtypes: float64(1), int32(1), int64(1), object(2)\n",
      "memory usage: 95.7+ KB\n"
     ]
    }
   ],
   "source": [
    "df.info()"
   ]
  },
  {
   "cell_type": "code",
   "execution_count": 40,
   "metadata": {},
   "outputs": [
    {
     "data": {
      "text/html": [
       "<div>\n",
       "<style scoped>\n",
       "    .dataframe tbody tr th:only-of-type {\n",
       "        vertical-align: middle;\n",
       "    }\n",
       "\n",
       "    .dataframe tbody tr th {\n",
       "        vertical-align: top;\n",
       "    }\n",
       "\n",
       "    .dataframe thead th {\n",
       "        text-align: right;\n",
       "    }\n",
       "</style>\n",
       "<table border=\"1\" class=\"dataframe\">\n",
       "  <thead>\n",
       "    <tr style=\"text-align: right;\">\n",
       "      <th></th>\n",
       "      <th>排名</th>\n",
       "      <th>学校</th>\n",
       "      <th>省市</th>\n",
       "      <th>总分</th>\n",
       "      <th>年份</th>\n",
       "    </tr>\n",
       "  </thead>\n",
       "  <tbody>\n",
       "  </tbody>\n",
       "</table>\n",
       "</div>"
      ],
      "text/plain": [
       "Empty DataFrame\n",
       "Columns: [排名, 学校, 省市, 总分, 年份]\n",
       "Index: []"
      ]
     },
     "execution_count": 40,
     "metadata": {},
     "output_type": "execute_result"
    }
   ],
   "source": [
    "df.head(0)"
   ]
  },
  {
   "cell_type": "code",
   "execution_count": 42,
   "metadata": {},
   "outputs": [
    {
     "data": {
      "text/plain": [
       "737"
      ]
     },
     "execution_count": 42,
     "metadata": {},
     "output_type": "execute_result"
    }
   ],
   "source": [
    "df['学校'].unique().size"
   ]
  },
  {
   "cell_type": "code",
   "execution_count": 44,
   "metadata": {},
   "outputs": [],
   "source": [
    "university_counts = df['学校'].value_counts()"
   ]
  },
  {
   "cell_type": "code",
   "execution_count": 45,
   "metadata": {},
   "outputs": [
    {
     "data": {
      "text/plain": [
       "174"
      ]
     },
     "execution_count": 45,
     "metadata": {},
     "output_type": "execute_result"
    }
   ],
   "source": [
    "university_counts[university_counts == 6].size"
   ]
  },
  {
   "cell_type": "code",
   "execution_count": 48,
   "metadata": {},
   "outputs": [
    {
     "data": {
      "image/png": "[encoded data removed]",
      "text/plain": [
       "<Figure size 432x288 with 1 Axes>"
      ]
     },
     "metadata": {
      "needs_background": "light"
     },
     "output_type": "display_data"
    }
   ],
   "source": [
    "university_counts.value_counts().sort_index().plot.bar(rot=0);"
   ]
  },
  {
   "cell_type": "code",
   "execution_count": 52,
   "metadata": {},
   "outputs": [
    {
     "data": {
      "image/png": "[encoded data removed]",
      "text/plain": [
       "<Figure size 432x288 with 1 Axes>"
      ]
     },
     "metadata": {
      "needs_background": "light"
     },
     "output_type": "display_data"
    }
   ],
   "source": [
    "sns.countplot(university_counts);"
   ]
  },
  {
   "cell_type": "code",
   "execution_count": 57,
   "metadata": {},
   "outputs": [
    {
     "data": {
      "image/png": "[encoded data removed]",
      "text/plain": [
       "<Figure size 432x288 with 1 Axes>"
      ]
     },
     "metadata": {},
     "output_type": "display_data"
    }
   ],
   "source": [
    "university_counts.value_counts().plot.pie(autopct='%.0f%%',cmap='BuGn');"
   ]
  },
  {
   "cell_type": "code",
   "execution_count": 58,
   "metadata": {},
   "outputs": [
    {
     "data": {
      "text/html": [
       "<div>\n",
       "<style scoped>\n",
       "    .dataframe tbody tr th:only-of-type {\n",
       "        vertical-align: middle;\n",
       "    }\n",
       "\n",
       "    .dataframe tbody tr th {\n",
       "        vertical-align: top;\n",
       "    }\n",
       "\n",
       "    .dataframe thead th {\n",
       "        text-align: right;\n",
       "    }\n",
       "</style>\n",
       "<table border=\"1\" class=\"dataframe\">\n",
       "  <thead>\n",
       "    <tr style=\"text-align: right;\">\n",
       "      <th></th>\n",
       "      <th>排名</th>\n",
       "      <th>学校</th>\n",
       "      <th>省市</th>\n",
       "      <th>总分</th>\n",
       "      <th>年份</th>\n",
       "    </tr>\n",
       "  </thead>\n",
       "  <tbody>\n",
       "  </tbody>\n",
       "</table>\n",
       "</div>"
      ],
      "text/plain": [
       "Empty DataFrame\n",
       "Columns: [排名, 学校, 省市, 总分, 年份]\n",
       "Index: []"
      ]
     },
     "execution_count": 58,
     "metadata": {},
     "output_type": "execute_result"
    }
   ],
   "source": [
    "df.head(0)"
   ]
  },
  {
   "cell_type": "code",
   "execution_count": 59,
   "metadata": {},
   "outputs": [
    {
     "data": {
      "text/plain": [
       "array(['北京', '浙江', '上海', '安徽', '江苏', '黑龙江', '湖北', '广东', '四川', '天津', '陕西',\n",
       "       '辽宁', '山东', '吉林', '福建', '湖南', '重庆', '甘肃', '河北', '河南', '广西', '山西',\n",
       "       '江西', '贵州', '云南', '内蒙古', '新疆', '北京市', '浙江省', '上海市', '江苏省', '安徽省',\n",
       "       '黑龙江省', '湖北省', '广东省', '天津市', '四川省', '陕西省', '辽宁省', '山东省', '吉林省',\n",
       "       '福建省', '湖南省', '重庆市', '甘肃省', '河北省', '山西省', '广西壮族自治区', '江西省', '河南省',\n",
       "       '海南省', '贵州省', '云南省', '宁夏自治区', '内蒙古自治区', '新疆自治区', '海南', '宁夏', '青海',\n",
       "       '西藏'], dtype=object)"
      ]
     },
     "execution_count": 59,
     "metadata": {},
     "output_type": "execute_result"
    }
   ],
   "source": [
    "df['省市'].unique()"
   ]
  },
  {
   "cell_type": "code",
   "execution_count": 60,
   "metadata": {},
   "outputs": [],
   "source": [
    "df['省市'] = df['省市'].str.replace('省','').str.replace('市','').str.replace('自治区','').str.replace('壮族','')"
   ]
  },
  {
   "cell_type": "code",
   "execution_count": 61,
   "metadata": {},
   "outputs": [
    {
     "data": {
      "text/plain": [
       "31"
      ]
     },
     "execution_count": 61,
     "metadata": {},
     "output_type": "execute_result"
    }
   ],
   "source": [
    "df['省市'].unique().size"
   ]
  },
  {
   "cell_type": "code",
   "execution_count": 67,
   "metadata": {},
   "outputs": [],
   "source": [
    "loc_counts = df['省市'].value_counts()"
   ]
  },
  {
   "cell_type": "code",
   "execution_count": 68,
   "metadata": {},
   "outputs": [
    {
     "data": {
      "text/plain": [
       "江苏    204\n",
       "北京    185\n",
       "山东    155\n",
       "辽宁    151\n",
       "河南    138\n",
       "广东    136\n",
       "湖北    130\n",
       "浙江    123\n",
       "陕西    123\n",
       "四川    119\n",
       "Name: 省市, dtype: int64"
      ]
     },
     "execution_count": 68,
     "metadata": {},
     "output_type": "execute_result"
    }
   ],
   "source": [
    "loc_counts[:10]"
   ]
  },
  {
   "cell_type": "code",
   "execution_count": 74,
   "metadata": {},
   "outputs": [
    {
     "data": {
      "image/png": "[encoded data removed]",
      "text/plain": [
       "<Figure size 720x1080 with 1 Axes>"
      ]
     },
     "metadata": {
      "needs_background": "light"
     },
     "output_type": "display_data"
    }
   ],
   "source": [
    "plt.figure(figsize=(10,15))\n",
    "plt.title('各省市入榜次数对比')\n",
    "sns.barplot(x=loc_counts,y=loc_counts.index,palette='tab20');"
   ]
  },
  {
   "cell_type": "code",
   "execution_count": 75,
   "metadata": {},
   "outputs": [
    {
     "data": {
      "text/html": [
       "<div>\n",
       "<style scoped>\n",
       "    .dataframe tbody tr th:only-of-type {\n",
       "        vertical-align: middle;\n",
       "    }\n",
       "\n",
       "    .dataframe tbody tr th {\n",
       "        vertical-align: top;\n",
       "    }\n",
       "\n",
       "    .dataframe thead th {\n",
       "        text-align: right;\n",
       "    }\n",
       "</style>\n",
       "<table border=\"1\" class=\"dataframe\">\n",
       "  <thead>\n",
       "    <tr style=\"text-align: right;\">\n",
       "      <th></th>\n",
       "      <th>排名</th>\n",
       "      <th>学校</th>\n",
       "      <th>省市</th>\n",
       "      <th>总分</th>\n",
       "      <th>年份</th>\n",
       "    </tr>\n",
       "  </thead>\n",
       "  <tbody>\n",
       "  </tbody>\n",
       "</table>\n",
       "</div>"
      ],
      "text/plain": [
       "Empty DataFrame\n",
       "Columns: [排名, 学校, 省市, 总分, 年份]\n",
       "Index: []"
      ]
     },
     "execution_count": 75,
     "metadata": {},
     "output_type": "execute_result"
    }
   ],
   "source": [
    "df.head(0)"
   ]
  },
  {
   "cell_type": "code",
   "execution_count": 77,
   "metadata": {},
   "outputs": [
    {
     "data": {
      "text/plain": [
       "count    2719.00\n",
       "mean       29.63\n",
       "std        12.43\n",
       "min         6.21\n",
       "25%        22.30\n",
       "50%        28.80\n",
       "75%        35.80\n",
       "max        95.90\n",
       "Name: 总分, dtype: float64"
      ]
     },
     "execution_count": 77,
     "metadata": {},
     "output_type": "execute_result"
    }
   ],
   "source": [
    "df['总分'].describe()"
   ]
  },
  {
   "cell_type": "code",
   "execution_count": 78,
   "metadata": {},
   "outputs": [
    {
     "data": {
      "image/png": "[encoded data removed]",
      "text/plain": [
       "<Figure size 432x288 with 1 Axes>"
      ]
     },
     "metadata": {
      "needs_background": "light"
     },
     "output_type": "display_data"
    }
   ],
   "source": [
    "df['总分'].plot.hist(bins=20,cmap='summer');"
   ]
  },
  {
   "cell_type": "code",
   "execution_count": 79,
   "metadata": {},
   "outputs": [
    {
     "data": {
      "image/png": "[encoded data removed]",
      "text/plain": [
       "<Figure size 432x288 with 1 Axes>"
      ]
     },
     "metadata": {
      "needs_background": "light"
     },
     "output_type": "display_data"
    }
   ],
   "source": [
    "sns.boxplot(df['总分'],palette='Wistia');"
   ]
  },
  {
   "cell_type": "code",
   "execution_count": 80,
   "metadata": {},
   "outputs": [
    {
     "data": {
      "image/png": "[encoded data removed]",
      "text/plain": [
       "<Figure size 432x288 with 1 Axes>"
      ]
     },
     "metadata": {
      "needs_background": "light"
     },
     "output_type": "display_data"
    }
   ],
   "source": [
    "sns.violinplot(df['总分'],palette='husl');"
   ]
  },
  {
   "cell_type": "code",
   "execution_count": 82,
   "metadata": {},
   "outputs": [
    {
     "data": {
      "image/png": "[encoded data removed]",
      "text/plain": [
       "<Figure size 432x288 with 1 Axes>"
      ]
     },
     "metadata": {
      "needs_background": "light"
     },
     "output_type": "display_data"
    }
   ],
   "source": [
    "sns.countplot(df['年份']);"
   ]
  },
  {
   "cell_type": "code",
   "execution_count": 83,
   "metadata": {},
   "outputs": [
    {
     "data": {
      "text/html": [
       "<div>\n",
       "<style scoped>\n",
       "    .dataframe tbody tr th:only-of-type {\n",
       "        vertical-align: middle;\n",
       "    }\n",
       "\n",
       "    .dataframe tbody tr th {\n",
       "        vertical-align: top;\n",
       "    }\n",
       "\n",
       "    .dataframe thead th {\n",
       "        text-align: right;\n",
       "    }\n",
       "</style>\n",
       "<table border=\"1\" class=\"dataframe\">\n",
       "  <thead>\n",
       "    <tr style=\"text-align: right;\">\n",
       "      <th></th>\n",
       "      <th>排名</th>\n",
       "      <th>学校</th>\n",
       "      <th>省市</th>\n",
       "      <th>总分</th>\n",
       "      <th>年份</th>\n",
       "    </tr>\n",
       "  </thead>\n",
       "  <tbody>\n",
       "  </tbody>\n",
       "</table>\n",
       "</div>"
      ],
      "text/plain": [
       "Empty DataFrame\n",
       "Columns: [排名, 学校, 省市, 总分, 年份]\n",
       "Index: []"
      ]
     },
     "execution_count": 83,
     "metadata": {},
     "output_type": "execute_result"
    }
   ],
   "source": [
    "df.head(0)"
   ]
  },
  {
   "cell_type": "code",
   "execution_count": 84,
   "metadata": {},
   "outputs": [],
   "source": [
    "rank_mean = df.groupby('学校')['排名'].mean()"
   ]
  },
  {
   "cell_type": "code",
   "execution_count": 85,
   "metadata": {},
   "outputs": [],
   "source": [
    "rank_mean.sort_values(inplace=True)"
   ]
  },
  {
   "cell_type": "code",
   "execution_count": 87,
   "metadata": {},
   "outputs": [
    {
     "data": {
      "text/plain": [
       "学校\n",
       "清华大学        1.00\n",
       "北京大学        2.00\n",
       "浙江大学        3.00\n",
       "上海交通大学      4.00\n",
       "复旦大学        5.17\n",
       "中国科学技术大学    6.33\n",
       "南京大学        6.50\n",
       "华中科技大学      8.17\n",
       "哈尔滨工业大学     9.67\n",
       "中山大学        9.67\n",
       "Name: 排名, dtype: float64"
      ]
     },
     "execution_count": 87,
     "metadata": {},
     "output_type": "execute_result"
    }
   ],
   "source": [
    "rank_mean[:10]"
   ]
  },
  {
   "cell_type": "code",
   "execution_count": 88,
   "metadata": {},
   "outputs": [
    {
     "data": {
      "image/png": "[encoded data removed]",
      "text/plain": [
       "<Figure size 576x432 with 1 Axes>"
      ]
     },
     "metadata": {
      "needs_background": "light"
     },
     "output_type": "display_data"
    }
   ],
   "source": [
    "plt.figure(figsize=(8,6))\n",
    "fig = sns.barplot(x=rank_mean[:20],y=rank_mean.index[:20],\n",
    "palette='Set1');\n",
    "fig.set_title('大学历年平均排名-TOP20');"
   ]
  },
  {
   "cell_type": "code",
   "execution_count": 89,
   "metadata": {},
   "outputs": [
    {
     "data": {
      "text/html": [
       "<div>\n",
       "<style scoped>\n",
       "    .dataframe tbody tr th:only-of-type {\n",
       "        vertical-align: middle;\n",
       "    }\n",
       "\n",
       "    .dataframe tbody tr th {\n",
       "        vertical-align: top;\n",
       "    }\n",
       "\n",
       "    .dataframe thead th {\n",
       "        text-align: right;\n",
       "    }\n",
       "</style>\n",
       "<table border=\"1\" class=\"dataframe\">\n",
       "  <thead>\n",
       "    <tr style=\"text-align: right;\">\n",
       "      <th></th>\n",
       "      <th>排名</th>\n",
       "      <th>学校</th>\n",
       "      <th>省市</th>\n",
       "      <th>总分</th>\n",
       "      <th>年份</th>\n",
       "    </tr>\n",
       "  </thead>\n",
       "  <tbody>\n",
       "  </tbody>\n",
       "</table>\n",
       "</div>"
      ],
      "text/plain": [
       "Empty DataFrame\n",
       "Columns: [排名, 学校, 省市, 总分, 年份]\n",
       "Index: []"
      ]
     },
     "execution_count": 89,
     "metadata": {},
     "output_type": "execute_result"
    }
   ],
   "source": [
    "df.head(0)"
   ]
  },
  {
   "cell_type": "code",
   "execution_count": 90,
   "metadata": {},
   "outputs": [],
   "source": [
    "rank_by_year = df.pivot_table(index='学校',columns='年份',values='排名',aggfunc='mean')"
   ]
  },
  {
   "cell_type": "code",
   "execution_count": 91,
   "metadata": {
    "scrolled": false
   },
   "outputs": [
    {
     "data": {
      "text/html": [
       "<div>\n",
       "<style scoped>\n",
       "    .dataframe tbody tr th:only-of-type {\n",
       "        vertical-align: middle;\n",
       "    }\n",
       "\n",
       "    .dataframe tbody tr th {\n",
       "        vertical-align: top;\n",
       "    }\n",
       "\n",
       "    .dataframe thead th {\n",
       "        text-align: right;\n",
       "    }\n",
       "</style>\n",
       "<table border=\"1\" class=\"dataframe\">\n",
       "  <thead>\n",
       "    <tr style=\"text-align: right;\">\n",
       "      <th>年份</th>\n",
       "      <th>2015</th>\n",
       "      <th>2016</th>\n",
       "      <th>2017</th>\n",
       "      <th>2018</th>\n",
       "      <th>2019</th>\n",
       "      <th>2020</th>\n",
       "    </tr>\n",
       "    <tr>\n",
       "      <th>学校</th>\n",
       "      <th></th>\n",
       "      <th></th>\n",
       "      <th></th>\n",
       "      <th></th>\n",
       "      <th></th>\n",
       "      <th></th>\n",
       "    </tr>\n",
       "  </thead>\n",
       "  <tbody>\n",
       "    <tr>\n",
       "      <td>清华大学</td>\n",
       "      <td>1.0</td>\n",
       "      <td>1.0</td>\n",
       "      <td>1.0</td>\n",
       "      <td>1.0</td>\n",
       "      <td>1.0</td>\n",
       "      <td>1.0</td>\n",
       "    </tr>\n",
       "    <tr>\n",
       "      <td>北京大学</td>\n",
       "      <td>2.0</td>\n",
       "      <td>2.0</td>\n",
       "      <td>2.0</td>\n",
       "      <td>2.0</td>\n",
       "      <td>2.0</td>\n",
       "      <td>2.0</td>\n",
       "    </tr>\n",
       "    <tr>\n",
       "      <td>浙江大学</td>\n",
       "      <td>3.0</td>\n",
       "      <td>3.0</td>\n",
       "      <td>3.0</td>\n",
       "      <td>3.0</td>\n",
       "      <td>3.0</td>\n",
       "      <td>3.0</td>\n",
       "    </tr>\n",
       "    <tr>\n",
       "      <td>上海交通大学</td>\n",
       "      <td>4.0</td>\n",
       "      <td>4.0</td>\n",
       "      <td>4.0</td>\n",
       "      <td>4.0</td>\n",
       "      <td>4.0</td>\n",
       "      <td>4.0</td>\n",
       "    </tr>\n",
       "    <tr>\n",
       "      <td>复旦大学</td>\n",
       "      <td>5.0</td>\n",
       "      <td>5.0</td>\n",
       "      <td>5.0</td>\n",
       "      <td>5.0</td>\n",
       "      <td>5.0</td>\n",
       "      <td>6.0</td>\n",
       "    </tr>\n",
       "    <tr>\n",
       "      <td>...</td>\n",
       "      <td>...</td>\n",
       "      <td>...</td>\n",
       "      <td>...</td>\n",
       "      <td>...</td>\n",
       "      <td>...</td>\n",
       "      <td>...</td>\n",
       "    </tr>\n",
       "    <tr>\n",
       "      <td>山东农业工程学院</td>\n",
       "      <td>NaN</td>\n",
       "      <td>NaN</td>\n",
       "      <td>NaN</td>\n",
       "      <td>NaN</td>\n",
       "      <td>NaN</td>\n",
       "      <td>563.0</td>\n",
       "    </tr>\n",
       "    <tr>\n",
       "      <td>太原学院</td>\n",
       "      <td>NaN</td>\n",
       "      <td>NaN</td>\n",
       "      <td>NaN</td>\n",
       "      <td>NaN</td>\n",
       "      <td>NaN</td>\n",
       "      <td>565.0</td>\n",
       "    </tr>\n",
       "    <tr>\n",
       "      <td>亳州学院</td>\n",
       "      <td>NaN</td>\n",
       "      <td>NaN</td>\n",
       "      <td>NaN</td>\n",
       "      <td>NaN</td>\n",
       "      <td>NaN</td>\n",
       "      <td>566.0</td>\n",
       "    </tr>\n",
       "    <tr>\n",
       "      <td>首钢工学院</td>\n",
       "      <td>NaN</td>\n",
       "      <td>NaN</td>\n",
       "      <td>NaN</td>\n",
       "      <td>NaN</td>\n",
       "      <td>NaN</td>\n",
       "      <td>567.0</td>\n",
       "    </tr>\n",
       "    <tr>\n",
       "      <td>伊犁师范学院</td>\n",
       "      <td>NaN</td>\n",
       "      <td>NaN</td>\n",
       "      <td>NaN</td>\n",
       "      <td>588.0</td>\n",
       "      <td>NaN</td>\n",
       "      <td>NaN</td>\n",
       "    </tr>\n",
       "  </tbody>\n",
       "</table>\n",
       "<p>737 rows × 6 columns</p>\n",
       "</div>"
      ],
      "text/plain": [
       "年份        2015  2016  2017   2018  2019   2020\n",
       "学校                                            \n",
       "清华大学       1.0   1.0   1.0    1.0   1.0    1.0\n",
       "北京大学       2.0   2.0   2.0    2.0   2.0    2.0\n",
       "浙江大学       3.0   3.0   3.0    3.0   3.0    3.0\n",
       "上海交通大学     4.0   4.0   4.0    4.0   4.0    4.0\n",
       "复旦大学       5.0   5.0   5.0    5.0   5.0    6.0\n",
       "...        ...   ...   ...    ...   ...    ...\n",
       "山东农业工程学院   NaN   NaN   NaN    NaN   NaN  563.0\n",
       "太原学院       NaN   NaN   NaN    NaN   NaN  565.0\n",
       "亳州学院       NaN   NaN   NaN    NaN   NaN  566.0\n",
       "首钢工学院      NaN   NaN   NaN    NaN   NaN  567.0\n",
       "伊犁师范学院     NaN   NaN   NaN  588.0   NaN    NaN\n",
       "\n",
       "[737 rows x 6 columns]"
      ]
     },
     "execution_count": 91,
     "metadata": {},
     "output_type": "execute_result"
    }
   ],
   "source": [
    "rank_by_year = rank_by_year.reindex(rank_mean.index)\n",
    "rank_by_year"
   ]
  },
  {
   "cell_type": "code",
   "execution_count": 96,
   "metadata": {},
   "outputs": [
    {
     "data": {
      "image/png": "[encoded data removed]",
      "text/plain": [
       "<Figure size 432x288 with 1 Axes>"
      ]
     },
     "metadata": {
      "needs_background": "light"
     },
     "output_type": "display_data"
    }
   ],
   "source": [
    "rank_by_year.iloc[:10].plot();"
   ]
  },
  {
   "cell_type": "code",
   "execution_count": 97,
   "metadata": {},
   "outputs": [
    {
     "data": {
      "image/png": "[encoded data removed]",
      "text/plain": [
       "<Figure size 432x288 with 1 Axes>"
      ]
     },
     "metadata": {
      "needs_background": "light"
     },
     "output_type": "display_data"
    }
   ],
   "source": [
    "rank_by_year.iloc[:10].T.plot();"
   ]
  },
  {
   "cell_type": "code",
   "execution_count": 98,
   "metadata": {
    "scrolled": true
   },
   "outputs": [
    {
     "data": {
      "image/png": "[encoded data removed]",
      "text/plain": [
       "<Figure size 576x288 with 1 Axes>"
      ]
     },
     "metadata": {
      "needs_background": "light"
     },
     "output_type": "display_data"
    }
   ],
   "source": [
    "rank_by_year[:10].T.plot(figsize=(8,4),title='大学历年排名变动-TOP10')\n",
    "plt.legend(bbox_to_anchor=(1,1));"
   ]
  },
  {
   "cell_type": "code",
   "execution_count": 99,
   "metadata": {},
   "outputs": [
    {
     "data": {
      "text/plain": [
       "省市\n",
       "上海     107\n",
       "云南      59\n",
       "内蒙古     35\n",
       "北京     185\n",
       "吉林      80\n",
       "      ... \n",
       "辽宁     151\n",
       "重庆      57\n",
       "陕西     123\n",
       "青海       8\n",
       "黑龙江     91\n",
       "Name: 学校, Length: 31, dtype: int64"
      ]
     },
     "execution_count": 99,
     "metadata": {},
     "output_type": "execute_result"
    }
   ],
   "source": [
    "num_by_loc = df.groupby('省市')['学校'].count()\n",
    "num_by_loc"
   ]
  },
  {
   "cell_type": "code",
   "execution_count": 100,
   "metadata": {},
   "outputs": [],
   "source": [
    "num_by_loc.sort_values(ascending=False,inplace=True)"
   ]
  },
  {
   "cell_type": "code",
   "execution_count": 101,
   "metadata": {},
   "outputs": [
    {
     "data": {
      "image/png": "[encoded data removed]",
      "text/plain": [
       "<Figure size 432x288 with 1 Axes>"
      ]
     },
     "metadata": {
      "needs_background": "light"
     },
     "output_type": "display_data"
    }
   ],
   "source": [
    "sns.barplot(x=num_by_loc[:10],y=num_by_loc.index[:10],\n",
    "palette='Dark2');"
   ]
  },
  {
   "cell_type": "code",
   "execution_count": 102,
   "metadata": {},
   "outputs": [
    {
     "data": {
      "text/html": [
       "<div>\n",
       "<style scoped>\n",
       "    .dataframe tbody tr th:only-of-type {\n",
       "        vertical-align: middle;\n",
       "    }\n",
       "\n",
       "    .dataframe tbody tr th {\n",
       "        vertical-align: top;\n",
       "    }\n",
       "\n",
       "    .dataframe thead th {\n",
       "        text-align: right;\n",
       "    }\n",
       "</style>\n",
       "<table border=\"1\" class=\"dataframe\">\n",
       "  <thead>\n",
       "    <tr style=\"text-align: right;\">\n",
       "      <th>年份</th>\n",
       "      <th>2015</th>\n",
       "      <th>2016</th>\n",
       "      <th>2017</th>\n",
       "      <th>2018</th>\n",
       "      <th>2019</th>\n",
       "      <th>2020</th>\n",
       "    </tr>\n",
       "    <tr>\n",
       "      <th>省市</th>\n",
       "      <th></th>\n",
       "      <th></th>\n",
       "      <th></th>\n",
       "      <th></th>\n",
       "      <th></th>\n",
       "      <th></th>\n",
       "    </tr>\n",
       "  </thead>\n",
       "  <tbody>\n",
       "    <tr>\n",
       "      <td>上海</td>\n",
       "      <td>11.0</td>\n",
       "      <td>14.0</td>\n",
       "      <td>20.0</td>\n",
       "      <td>22.0</td>\n",
       "      <td>22.0</td>\n",
       "      <td>18.0</td>\n",
       "    </tr>\n",
       "    <tr>\n",
       "      <td>云南</td>\n",
       "      <td>1.0</td>\n",
       "      <td>4.0</td>\n",
       "      <td>10.0</td>\n",
       "      <td>15.0</td>\n",
       "      <td>13.0</td>\n",
       "      <td>16.0</td>\n",
       "    </tr>\n",
       "    <tr>\n",
       "      <td>内蒙古</td>\n",
       "      <td>1.0</td>\n",
       "      <td>3.0</td>\n",
       "      <td>4.0</td>\n",
       "      <td>8.0</td>\n",
       "      <td>7.0</td>\n",
       "      <td>12.0</td>\n",
       "    </tr>\n",
       "    <tr>\n",
       "      <td>北京</td>\n",
       "      <td>18.0</td>\n",
       "      <td>25.0</td>\n",
       "      <td>36.0</td>\n",
       "      <td>39.0</td>\n",
       "      <td>39.0</td>\n",
       "      <td>28.0</td>\n",
       "    </tr>\n",
       "    <tr>\n",
       "      <td>吉林</td>\n",
       "      <td>3.0</td>\n",
       "      <td>9.0</td>\n",
       "      <td>16.0</td>\n",
       "      <td>18.0</td>\n",
       "      <td>16.0</td>\n",
       "      <td>18.0</td>\n",
       "    </tr>\n",
       "    <tr>\n",
       "      <td>...</td>\n",
       "      <td>...</td>\n",
       "      <td>...</td>\n",
       "      <td>...</td>\n",
       "      <td>...</td>\n",
       "      <td>...</td>\n",
       "      <td>...</td>\n",
       "    </tr>\n",
       "    <tr>\n",
       "      <td>辽宁</td>\n",
       "      <td>10.0</td>\n",
       "      <td>23.0</td>\n",
       "      <td>31.0</td>\n",
       "      <td>33.0</td>\n",
       "      <td>27.0</td>\n",
       "      <td>27.0</td>\n",
       "    </tr>\n",
       "    <tr>\n",
       "      <td>重庆</td>\n",
       "      <td>3.0</td>\n",
       "      <td>7.0</td>\n",
       "      <td>10.0</td>\n",
       "      <td>13.0</td>\n",
       "      <td>13.0</td>\n",
       "      <td>11.0</td>\n",
       "    </tr>\n",
       "    <tr>\n",
       "      <td>陕西</td>\n",
       "      <td>11.0</td>\n",
       "      <td>13.0</td>\n",
       "      <td>20.0</td>\n",
       "      <td>26.0</td>\n",
       "      <td>27.0</td>\n",
       "      <td>26.0</td>\n",
       "    </tr>\n",
       "    <tr>\n",
       "      <td>青海</td>\n",
       "      <td>NaN</td>\n",
       "      <td>NaN</td>\n",
       "      <td>2.0</td>\n",
       "      <td>2.0</td>\n",
       "      <td>2.0</td>\n",
       "      <td>2.0</td>\n",
       "    </tr>\n",
       "    <tr>\n",
       "      <td>黑龙江</td>\n",
       "      <td>7.0</td>\n",
       "      <td>11.0</td>\n",
       "      <td>18.0</td>\n",
       "      <td>20.0</td>\n",
       "      <td>16.0</td>\n",
       "      <td>19.0</td>\n",
       "    </tr>\n",
       "  </tbody>\n",
       "</table>\n",
       "<p>31 rows × 6 columns</p>\n",
       "</div>"
      ],
      "text/plain": [
       "年份   2015  2016  2017  2018  2019  2020\n",
       "省市                                     \n",
       "上海   11.0  14.0  20.0  22.0  22.0  18.0\n",
       "云南    1.0   4.0  10.0  15.0  13.0  16.0\n",
       "内蒙古   1.0   3.0   4.0   8.0   7.0  12.0\n",
       "北京   18.0  25.0  36.0  39.0  39.0  28.0\n",
       "吉林    3.0   9.0  16.0  18.0  16.0  18.0\n",
       "..    ...   ...   ...   ...   ...   ...\n",
       "辽宁   10.0  23.0  31.0  33.0  27.0  27.0\n",
       "重庆    3.0   7.0  10.0  13.0  13.0  11.0\n",
       "陕西   11.0  13.0  20.0  26.0  27.0  26.0\n",
       "青海    NaN   NaN   2.0   2.0   2.0   2.0\n",
       "黑龙江   7.0  11.0  18.0  20.0  16.0  19.0\n",
       "\n",
       "[31 rows x 6 columns]"
      ]
     },
     "execution_count": 102,
     "metadata": {},
     "output_type": "execute_result"
    }
   ],
   "source": [
    "num_by_loc_year = df.pivot_table(index='省市',columns='年份',values='学校',aggfunc='count')\n",
    "num_by_loc_year"
   ]
  },
  {
   "cell_type": "code",
   "execution_count": 103,
   "metadata": {},
   "outputs": [],
   "source": [
    "loc_year_top = num_by_loc_year.loc[num_by_loc.index[:5]]"
   ]
  },
  {
   "cell_type": "code",
   "execution_count": 104,
   "metadata": {},
   "outputs": [
    {
     "data": {
      "image/png": "[encoded data removed]",
      "text/plain": [
       "<Figure size 576x288 with 1 Axes>"
      ]
     },
     "metadata": {
      "needs_background": "light"
     },
     "output_type": "display_data"
    }
   ],
   "source": [
    "loc_year_top.T.plot(figsize=(8,4),style=['o-','s--','p-.','d:','x-']);"
   ]
  },
  {
   "cell_type": "code",
   "execution_count": 105,
   "metadata": {},
   "outputs": [
    {
     "data": {
      "text/plain": [
       "省市   学校     \n",
       "上海   上海中医药大学    104.25\n",
       "     上海交通大学       4.00\n",
       "     上海体育学院     342.50\n",
       "     上海外国语大学     67.33\n",
       "     上海大学        43.67\n",
       "                 ...  \n",
       "黑龙江  黑龙江工业学院    555.00\n",
       "     黑龙江工程学院    395.00\n",
       "     黑龙江科技大学    386.00\n",
       "     齐齐哈尔医学院    351.50\n",
       "     齐齐哈尔大学     370.00\n",
       "Name: 排名, Length: 738, dtype: float64"
      ]
     },
     "execution_count": 105,
     "metadata": {},
     "output_type": "execute_result"
    }
   ],
   "source": [
    "loc_uni_mean = df.groupby(['省市','学校'])['排名'].mean()\n",
    "loc_uni_mean"
   ]
  },
  {
   "cell_type": "code",
   "execution_count": 106,
   "metadata": {},
   "outputs": [],
   "source": [
    "df_loc_uni_mean = loc_uni_mean.reset_index()"
   ]
  },
  {
   "cell_type": "code",
   "execution_count": 107,
   "metadata": {},
   "outputs": [
    {
     "data": {
      "text/html": [
       "<div>\n",
       "<style scoped>\n",
       "    .dataframe tbody tr th:only-of-type {\n",
       "        vertical-align: middle;\n",
       "    }\n",
       "\n",
       "    .dataframe tbody tr th {\n",
       "        vertical-align: top;\n",
       "    }\n",
       "\n",
       "    .dataframe thead th {\n",
       "        text-align: right;\n",
       "    }\n",
       "</style>\n",
       "<table border=\"1\" class=\"dataframe\">\n",
       "  <thead>\n",
       "    <tr style=\"text-align: right;\">\n",
       "      <th></th>\n",
       "      <th>省市</th>\n",
       "      <th>学校</th>\n",
       "      <th>排名</th>\n",
       "    </tr>\n",
       "  </thead>\n",
       "  <tbody>\n",
       "    <tr>\n",
       "      <td>1</td>\n",
       "      <td>上海</td>\n",
       "      <td>上海交通大学</td>\n",
       "      <td>4.00</td>\n",
       "    </tr>\n",
       "    <tr>\n",
       "      <td>27</td>\n",
       "      <td>上海</td>\n",
       "      <td>复旦大学</td>\n",
       "      <td>5.17</td>\n",
       "    </tr>\n",
       "    <tr>\n",
       "      <td>26</td>\n",
       "      <td>上海</td>\n",
       "      <td>同济大学</td>\n",
       "      <td>12.67</td>\n",
       "    </tr>\n",
       "    <tr>\n",
       "      <td>23</td>\n",
       "      <td>上海</td>\n",
       "      <td>华东师范大学</td>\n",
       "      <td>31.67</td>\n",
       "    </tr>\n",
       "    <tr>\n",
       "      <td>25</td>\n",
       "      <td>上海</td>\n",
       "      <td>华东理工大学</td>\n",
       "      <td>33.50</td>\n",
       "    </tr>\n",
       "    <tr>\n",
       "      <td>...</td>\n",
       "      <td>...</td>\n",
       "      <td>...</td>\n",
       "      <td>...</td>\n",
       "    </tr>\n",
       "    <tr>\n",
       "      <td>725</td>\n",
       "      <td>黑龙江</td>\n",
       "      <td>大庆师范学院</td>\n",
       "      <td>488.00</td>\n",
       "    </tr>\n",
       "    <tr>\n",
       "      <td>727</td>\n",
       "      <td>黑龙江</td>\n",
       "      <td>牡丹江师范学院</td>\n",
       "      <td>489.50</td>\n",
       "    </tr>\n",
       "    <tr>\n",
       "      <td>729</td>\n",
       "      <td>黑龙江</td>\n",
       "      <td>黑河学院</td>\n",
       "      <td>499.00</td>\n",
       "    </tr>\n",
       "    <tr>\n",
       "      <td>728</td>\n",
       "      <td>黑龙江</td>\n",
       "      <td>绥化学院</td>\n",
       "      <td>528.00</td>\n",
       "    </tr>\n",
       "    <tr>\n",
       "      <td>733</td>\n",
       "      <td>黑龙江</td>\n",
       "      <td>黑龙江工业学院</td>\n",
       "      <td>555.00</td>\n",
       "    </tr>\n",
       "  </tbody>\n",
       "</table>\n",
       "<p>738 rows × 3 columns</p>\n",
       "</div>"
      ],
      "text/plain": [
       "      省市       学校      排名\n",
       "1     上海   上海交通大学    4.00\n",
       "27    上海     复旦大学    5.17\n",
       "26    上海     同济大学   12.67\n",
       "23    上海   华东师范大学   31.67\n",
       "25    上海   华东理工大学   33.50\n",
       "..   ...      ...     ...\n",
       "725  黑龙江   大庆师范学院  488.00\n",
       "727  黑龙江  牡丹江师范学院  489.50\n",
       "729  黑龙江     黑河学院  499.00\n",
       "728  黑龙江     绥化学院  528.00\n",
       "733  黑龙江  黑龙江工业学院  555.00\n",
       "\n",
       "[738 rows x 3 columns]"
      ]
     },
     "execution_count": 107,
     "metadata": {},
     "output_type": "execute_result"
    }
   ],
   "source": [
    "df_loc_uni_mean.sort_values(['省市','排名'],inplace=True)\n",
    "df_loc_uni_mean"
   ]
  },
  {
   "cell_type": "code",
   "execution_count": 108,
   "metadata": {},
   "outputs": [
    {
     "data": {
      "text/html": [
       "<div>\n",
       "<style scoped>\n",
       "    .dataframe tbody tr th:only-of-type {\n",
       "        vertical-align: middle;\n",
       "    }\n",
       "\n",
       "    .dataframe tbody tr th {\n",
       "        vertical-align: top;\n",
       "    }\n",
       "\n",
       "    .dataframe thead th {\n",
       "        text-align: right;\n",
       "    }\n",
       "</style>\n",
       "<table border=\"1\" class=\"dataframe\">\n",
       "  <thead>\n",
       "    <tr style=\"text-align: right;\">\n",
       "      <th></th>\n",
       "      <th>省市</th>\n",
       "      <th>学校</th>\n",
       "      <th>排名</th>\n",
       "    </tr>\n",
       "  </thead>\n",
       "  <tbody>\n",
       "    <tr>\n",
       "      <td>1</td>\n",
       "      <td>上海</td>\n",
       "      <td>上海交通大学</td>\n",
       "      <td>4.00</td>\n",
       "    </tr>\n",
       "    <tr>\n",
       "      <td>27</td>\n",
       "      <td>上海</td>\n",
       "      <td>复旦大学</td>\n",
       "      <td>5.17</td>\n",
       "    </tr>\n",
       "    <tr>\n",
       "      <td>26</td>\n",
       "      <td>上海</td>\n",
       "      <td>同济大学</td>\n",
       "      <td>12.67</td>\n",
       "    </tr>\n",
       "    <tr>\n",
       "      <td>23</td>\n",
       "      <td>上海</td>\n",
       "      <td>华东师范大学</td>\n",
       "      <td>31.67</td>\n",
       "    </tr>\n",
       "    <tr>\n",
       "      <td>25</td>\n",
       "      <td>上海</td>\n",
       "      <td>华东理工大学</td>\n",
       "      <td>33.50</td>\n",
       "    </tr>\n",
       "    <tr>\n",
       "      <td>...</td>\n",
       "      <td>...</td>\n",
       "      <td>...</td>\n",
       "      <td>...</td>\n",
       "    </tr>\n",
       "    <tr>\n",
       "      <td>721</td>\n",
       "      <td>黑龙江</td>\n",
       "      <td>哈尔滨工业大学</td>\n",
       "      <td>9.67</td>\n",
       "    </tr>\n",
       "    <tr>\n",
       "      <td>722</td>\n",
       "      <td>黑龙江</td>\n",
       "      <td>哈尔滨工程大学</td>\n",
       "      <td>61.17</td>\n",
       "    </tr>\n",
       "    <tr>\n",
       "      <td>718</td>\n",
       "      <td>黑龙江</td>\n",
       "      <td>哈尔滨医科大学</td>\n",
       "      <td>117.00</td>\n",
       "    </tr>\n",
       "    <tr>\n",
       "      <td>714</td>\n",
       "      <td>黑龙江</td>\n",
       "      <td>东北农业大学</td>\n",
       "      <td>125.83</td>\n",
       "    </tr>\n",
       "    <tr>\n",
       "      <td>715</td>\n",
       "      <td>黑龙江</td>\n",
       "      <td>东北林业大学</td>\n",
       "      <td>129.83</td>\n",
       "    </tr>\n",
       "  </tbody>\n",
       "</table>\n",
       "<p>148 rows × 3 columns</p>\n",
       "</div>"
      ],
      "text/plain": [
       "      省市       学校      排名\n",
       "1     上海   上海交通大学    4.00\n",
       "27    上海     复旦大学    5.17\n",
       "26    上海     同济大学   12.67\n",
       "23    上海   华东师范大学   31.67\n",
       "25    上海   华东理工大学   33.50\n",
       "..   ...      ...     ...\n",
       "721  黑龙江  哈尔滨工业大学    9.67\n",
       "722  黑龙江  哈尔滨工程大学   61.17\n",
       "718  黑龙江  哈尔滨医科大学  117.00\n",
       "714  黑龙江   东北农业大学  125.83\n",
       "715  黑龙江   东北林业大学  129.83\n",
       "\n",
       "[148 rows x 3 columns]"
      ]
     },
     "execution_count": 108,
     "metadata": {},
     "output_type": "execute_result"
    }
   ],
   "source": [
    "loc_uni_top = df_loc_uni_mean.groupby('省市').head(5)\n",
    "loc_uni_top"
   ]
  },
  {
   "cell_type": "code",
   "execution_count": 109,
   "metadata": {},
   "outputs": [],
   "source": [
    "loc_uni_top.set_index('省市',inplace=True)"
   ]
  },
  {
   "cell_type": "code",
   "execution_count": 110,
   "metadata": {},
   "outputs": [
    {
     "data": {
      "text/html": [
       "<div>\n",
       "<style scoped>\n",
       "    .dataframe tbody tr th:only-of-type {\n",
       "        vertical-align: middle;\n",
       "    }\n",
       "\n",
       "    .dataframe tbody tr th {\n",
       "        vertical-align: top;\n",
       "    }\n",
       "\n",
       "    .dataframe thead th {\n",
       "        text-align: right;\n",
       "    }\n",
       "</style>\n",
       "<table border=\"1\" class=\"dataframe\">\n",
       "  <thead>\n",
       "    <tr style=\"text-align: right;\">\n",
       "      <th></th>\n",
       "      <th>学校</th>\n",
       "      <th>排名</th>\n",
       "    </tr>\n",
       "    <tr>\n",
       "      <th>省市</th>\n",
       "      <th></th>\n",
       "      <th></th>\n",
       "    </tr>\n",
       "  </thead>\n",
       "  <tbody>\n",
       "    <tr>\n",
       "      <td>云南</td>\n",
       "      <td>云南大学</td>\n",
       "      <td>114.75</td>\n",
       "    </tr>\n",
       "    <tr>\n",
       "      <td>云南</td>\n",
       "      <td>云南师范大学</td>\n",
       "      <td>193.40</td>\n",
       "    </tr>\n",
       "    <tr>\n",
       "      <td>云南</td>\n",
       "      <td>昆明医科大学</td>\n",
       "      <td>206.50</td>\n",
       "    </tr>\n",
       "    <tr>\n",
       "      <td>云南</td>\n",
       "      <td>昆明理工大学</td>\n",
       "      <td>209.50</td>\n",
       "    </tr>\n",
       "    <tr>\n",
       "      <td>云南</td>\n",
       "      <td>云南财经大学</td>\n",
       "      <td>294.00</td>\n",
       "    </tr>\n",
       "  </tbody>\n",
       "</table>\n",
       "</div>"
      ],
      "text/plain": [
       "        学校      排名\n",
       "省市                \n",
       "云南    云南大学  114.75\n",
       "云南  云南师范大学  193.40\n",
       "云南  昆明医科大学  206.50\n",
       "云南  昆明理工大学  209.50\n",
       "云南  云南财经大学  294.00"
      ]
     },
     "execution_count": 110,
     "metadata": {},
     "output_type": "execute_result"
    }
   ],
   "source": [
    "loc_uni_top.loc['云南']"
   ]
  },
  {
   "cell_type": "code",
   "execution_count": 111,
   "metadata": {},
   "outputs": [
    {
     "data": {
      "text/html": [
       "<div>\n",
       "<style scoped>\n",
       "    .dataframe tbody tr th:only-of-type {\n",
       "        vertical-align: middle;\n",
       "    }\n",
       "\n",
       "    .dataframe tbody tr th {\n",
       "        vertical-align: top;\n",
       "    }\n",
       "\n",
       "    .dataframe thead th {\n",
       "        text-align: right;\n",
       "    }\n",
       "</style>\n",
       "<table border=\"1\" class=\"dataframe\">\n",
       "  <thead>\n",
       "    <tr style=\"text-align: right;\">\n",
       "      <th></th>\n",
       "      <th>学校</th>\n",
       "      <th>排名</th>\n",
       "    </tr>\n",
       "    <tr>\n",
       "      <th>省市</th>\n",
       "      <th></th>\n",
       "      <th></th>\n",
       "    </tr>\n",
       "  </thead>\n",
       "  <tbody>\n",
       "    <tr>\n",
       "      <td>北京</td>\n",
       "      <td>清华大学</td>\n",
       "      <td>1.00</td>\n",
       "    </tr>\n",
       "    <tr>\n",
       "      <td>北京</td>\n",
       "      <td>北京大学</td>\n",
       "      <td>2.00</td>\n",
       "    </tr>\n",
       "    <tr>\n",
       "      <td>北京</td>\n",
       "      <td>北京航空航天大学</td>\n",
       "      <td>13.17</td>\n",
       "    </tr>\n",
       "    <tr>\n",
       "      <td>北京</td>\n",
       "      <td>北京师范大学</td>\n",
       "      <td>20.67</td>\n",
       "    </tr>\n",
       "    <tr>\n",
       "      <td>北京</td>\n",
       "      <td>北京理工大学</td>\n",
       "      <td>22.00</td>\n",
       "    </tr>\n",
       "    <tr>\n",
       "      <td>上海</td>\n",
       "      <td>上海交通大学</td>\n",
       "      <td>4.00</td>\n",
       "    </tr>\n",
       "    <tr>\n",
       "      <td>上海</td>\n",
       "      <td>复旦大学</td>\n",
       "      <td>5.17</td>\n",
       "    </tr>\n",
       "    <tr>\n",
       "      <td>上海</td>\n",
       "      <td>同济大学</td>\n",
       "      <td>12.67</td>\n",
       "    </tr>\n",
       "    <tr>\n",
       "      <td>上海</td>\n",
       "      <td>华东师范大学</td>\n",
       "      <td>31.67</td>\n",
       "    </tr>\n",
       "    <tr>\n",
       "      <td>上海</td>\n",
       "      <td>华东理工大学</td>\n",
       "      <td>33.50</td>\n",
       "    </tr>\n",
       "  </tbody>\n",
       "</table>\n",
       "</div>"
      ],
      "text/plain": [
       "          学校     排名\n",
       "省市                 \n",
       "北京      清华大学   1.00\n",
       "北京      北京大学   2.00\n",
       "北京  北京航空航天大学  13.17\n",
       "北京    北京师范大学  20.67\n",
       "北京    北京理工大学  22.00\n",
       "上海    上海交通大学   4.00\n",
       "上海      复旦大学   5.17\n",
       "上海      同济大学  12.67\n",
       "上海    华东师范大学  31.67\n",
       "上海    华东理工大学  33.50"
      ]
     },
     "execution_count": 111,
     "metadata": {},
     "output_type": "execute_result"
    }
   ],
   "source": [
    "loc_uni_top.loc[['北京','上海']]"
   ]
  },
  {
   "cell_type": "code",
   "execution_count": null,
   "metadata": {},
   "outputs": [],
   "source": []
  }
 ],
 "metadata": {
  "kernelspec": {
   "display_name": "Python 3",
   "language": "python",
   "name": "python3"
  },
  "language_info": {
   "codemirror_mode": {
    "name": "ipython",
    "version": 3
   },
   "file_extension": ".py",
   "mimetype": "text/x-python",
   "name": "python",
   "nbconvert_exporter": "python",
   "pygments_lexer": "ipython3",
   "version": "3.7.4"
  }
 },
 "nbformat": 4,
 "nbformat_minor": 2
}
