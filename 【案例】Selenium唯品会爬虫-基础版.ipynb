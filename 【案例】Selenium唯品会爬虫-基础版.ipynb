{
 "cells": [
  {
   "cell_type": "code",
   "execution_count": 122,
   "metadata": {
    "scrolled": false
   },
   "outputs": [
    {
     "name": "stdout",
     "output_type": "stream",
     "text": [
      "28\n"
     ]
    }
   ],
   "source": [
    "from selenium import webdriver\n",
    "from bs4 import BeautifulSoup\n",
    "from time import sleep\n",
    "import pandas as pd\n",
    "from selenium.webdriver.common.keys import Keys\n",
    "\n",
    "browser = webdriver.Chrome()\n",
    "browser.get('https://www.vip.com')\n",
    "search_box = browser.find_element_by_css_selector('#J-search > div.c-search-form > input')\n",
    "search_box.send_keys('手机\\n')\n",
    "sleep(3)\n",
    "fout = open('唯品会手机商品数据爬虫.txt','w',encoding='utf-8')\n",
    "k = 1\n",
    "\n",
    "total_number = int(sp.select_one('span.total-item-nums').string[1:-1])\n",
    "print(total_number)\n",
    "\n",
    "for num in range(total_number):\n",
    "    head = browser.find_element_by_tag_name('html')\n",
    "    for _ in range(3):\n",
    "        head.send_keys(Keys.END)\n",
    "        sleep(1)\n",
    "    html = browser.page_source\n",
    "    sp = BeautifulSoup(html,'lxml')\n",
    "    tag = sp.select_one('#J_searchCatList')\n",
    "    goods = tag.select('div.c-goods-item')\n",
    "    for item in goods:\n",
    "        item_url = 'https:' + item.a.get('href')\n",
    "        sale_price = item.select_one('div.c-goods-item__sale-price').get_text()\n",
    "        t = item.select_one('div.c-goods-item__market-price')\n",
    "        market_price = '' if t == None else t.get_text()\n",
    "        t = item.select_one('div.c-goods-item__discount') \n",
    "        discount = '' if t == None else t.get_text()\n",
    "        name = item.select_one('div.c-goods-item__name').get_text()  \n",
    "        print(k,name,sale_price,market_price,\n",
    "              discount,item_url,sep='#',file=fout)\n",
    "        k += 1\n",
    "    if num == total_number-1:\n",
    "        break\n",
    "    next_button = sp.select_one('#J_nextPage_link')\n",
    "    next_url = 'https:' + next_button.get('href')\n",
    "    browser.get(next_url)\n",
    "    sleep(3)\n",
    "fout.close()\n",
    "\n",
    "df = pd.read_csv('唯品会手机商品数据爬虫.txt',sep='#',\n",
    "                 names=['序号','名称','卖价',\n",
    "                        '定价','折扣','商品网址'])\n",
    "df.to_excel('唯品会手机商品数据爬虫.xlsx',index=False)"
   ]
  },
  {
   "cell_type": "code",
   "execution_count": 121,
   "metadata": {},
   "outputs": [],
   "source": []
  },
  {
   "cell_type": "code",
   "execution_count": null,
   "metadata": {},
   "outputs": [],
   "source": []
  },
  {
   "cell_type": "code",
   "execution_count": null,
   "metadata": {},
   "outputs": [],
   "source": []
  },
  {
   "cell_type": "code",
   "execution_count": null,
   "metadata": {},
   "outputs": [],
   "source": []
  }
 ],
 "metadata": {
  "kernelspec": {
   "display_name": "Python 3",
   "language": "python",
   "name": "python3"
  },
  "language_info": {
   "codemirror_mode": {
    "name": "ipython",
    "version": 3
   },
   "file_extension": ".py",
   "mimetype": "text/x-python",
   "name": "python",
   "nbconvert_exporter": "python",
   "pygments_lexer": "ipython3",
   "version": "3.7.4"
  }
 },
 "nbformat": 4,
 "nbformat_minor": 2
}
