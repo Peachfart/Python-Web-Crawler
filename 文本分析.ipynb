{
 "cells": [
  {
   "cell_type": "code",
   "execution_count": 53,
   "metadata": {},
   "outputs": [
    {
     "data": {
      "text/plain": [
       "<wordcloud.wordcloud.WordCloud at 0x2031c148>"
      ]
     },
     "execution_count": 53,
     "metadata": {},
     "output_type": "execute_result"
    },
    {
     "data": {
      "image/png": "[encoded data removed]",
      "text/plain": [
       "<Figure size 432x288 with 1 Axes>"
      ]
     },
     "metadata": {
      "needs_background": "light"
     },
     "output_type": "display_data"
    }
   ],
   "source": [
    "from wordcloud import WordCloud\n",
    "\n",
    "from wordcloud import STOPWORDS\n",
    "\n",
    "import matplotlib.pyplot as plt\n",
    "\n",
    "from wordcloud import ImageColorGenerator\n",
    "\n",
    "import numpy as np\n",
    "\n",
    "import pandas as pd\n",
    "\n",
    "import jieba\n",
    "\n",
    "pd.set_option('display.max_rows',50)\n",
    "\n",
    "pd.set_option('display.max_columns',10)\n",
    "\n",
    "pd.set_option('display.precision',4)\n",
    "\n",
    "\n",
    "\n",
    "\n",
    "\n",
    "df = pd.read_excel('大圣归来-电影评分与评论.xlsx')    # 读入评论\n",
    "allcomments = ' '.join(df['Comment'])    # 拼接评论\n",
    "words = jieba.lcut(allcomments[:len(allcomments)//3])    # 分词\n",
    "words_series = pd.Series(words)    # 转换为Series\n",
    "word_freq = words_series.value_counts()    #统计词频\n",
    "sw = open('stopwords.txt',encoding='utf-8').read()    #读入停用词文本\n",
    "swlist = sw[1:].split()    #切分停用词\n",
    "word_freq = word_freq[~word_freq.index.isin(swlist)]   # 过滤停用词\n",
    "word_freq = word_freq[word_freq.index.str.len() > 1]   # 过滤单字\n",
    "my_sw_list = ['真的','感觉','之作','一部','确实','这部','片子']    # 自定义字典\n",
    "word_freq = word_freq[~word_freq.index.isin(my_sw_list)]    # 过滤自定义字典\n",
    "# content = open('RomeoandJuliet.txt').read()\n",
    "# sws = STOPWORDS\n",
    "# sws.update(['thy','thee','come','go','o','will','thou'])\n",
    "backpic =  plt.imread('大圣归来-背景图.jpg')    # 读入背景图\n",
    "myfont = 'c:/Windows/Fonts/msyh.ttc'# 设置中文字体\n",
    "mycloud = WordCloud(background_color='white',    #设置背景颜色\n",
    "                    colormap='PuBu_r',    # 设置配色方案\n",
    "                    width=1280,height=720,    # 设置图片尺寸\n",
    "                    mask=backpic,    \n",
    "                    font_path=myfont,\n",
    "                    scale=8\n",
    "                   ).generate_from_frequencies(word_freq.to_dict())\n",
    "\n",
    "image_colors = ImageColorGenerator(backpic)\n",
    "mycloud.recolor(color_func = image_colors)\n",
    "plt.axis('off')\n",
    "plt.imshow(mycloud);\n",
    "mycloud.to_file('大圣归来_CYT.png')\n"
   ]
  },
  {
   "cell_type": "code",
   "execution_count": null,
   "metadata": {},
   "outputs": [],
   "source": []
  }
 ],
 "metadata": {
  "kernelspec": {
   "display_name": "Python 3",
   "language": "python",
   "name": "python3"
  },
  "language_info": {
   "codemirror_mode": {
    "name": "ipython",
    "version": 3
   },
   "file_extension": ".py",
   "mimetype": "text/x-python",
   "name": "python",
   "nbconvert_exporter": "python",
   "pygments_lexer": "ipython3",
   "version": "3.7.4"
  }
 },
 "nbformat": 4,
 "nbformat_minor": 2
}
