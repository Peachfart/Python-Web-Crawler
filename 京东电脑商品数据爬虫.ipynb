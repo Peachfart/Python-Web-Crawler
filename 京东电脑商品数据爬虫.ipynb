{
 "cells": [
  {
   "cell_type": "code",
   "execution_count": 18,
   "metadata": {
    "scrolled": false
   },
   "outputs": [
    {
     "ename": "AttributeError",
     "evalue": "'NoneType' object has no attribute 'em'",
     "output_type": "error",
     "traceback": [
      "\u001b[0;31m---------------------------------------------------------------------------\u001b[0m",
      "\u001b[0;31mAttributeError\u001b[0m                            Traceback (most recent call last)",
      "\u001b[0;32m<ipython-input-18-6a381964a534>\u001b[0m in \u001b[0;36m<module>\u001b[0;34m()\u001b[0m\n\u001b[1;32m     22\u001b[0m     \u001b[0mhead\u001b[0m\u001b[0;34m.\u001b[0m\u001b[0msend_keys\u001b[0m\u001b[0;34m(\u001b[0m\u001b[0mKeys\u001b[0m\u001b[0;34m.\u001b[0m\u001b[0mEND\u001b[0m\u001b[0;34m)\u001b[0m\u001b[0;34m\u001b[0m\u001b[0m\n\u001b[1;32m     23\u001b[0m     \u001b[0msleep\u001b[0m\u001b[0;34m(\u001b[0m\u001b[0;36m0.5\u001b[0m\u001b[0;34m)\u001b[0m\u001b[0;34m\u001b[0m\u001b[0m\n\u001b[0;32m---> 24\u001b[0;31m \u001b[0mpage_nums\u001b[0m \u001b[0;34m=\u001b[0m \u001b[0mint\u001b[0m\u001b[0;34m(\u001b[0m\u001b[0msp\u001b[0m\u001b[0;34m.\u001b[0m\u001b[0mselect_one\u001b[0m\u001b[0;34m(\u001b[0m\u001b[0;34m'span.p-skip'\u001b[0m\u001b[0;34m)\u001b[0m\u001b[0;34m.\u001b[0m\u001b[0mem\u001b[0m\u001b[0;34m.\u001b[0m\u001b[0mb\u001b[0m\u001b[0;34m.\u001b[0m\u001b[0mget_text\u001b[0m\u001b[0;34m(\u001b[0m\u001b[0;34m)\u001b[0m\u001b[0;34m)\u001b[0m\u001b[0;34m\u001b[0m\u001b[0m\n\u001b[0m\u001b[1;32m     25\u001b[0m \u001b[0;32mfor\u001b[0m \u001b[0mnum\u001b[0m \u001b[0;32min\u001b[0m \u001b[0mrange\u001b[0m\u001b[0;34m(\u001b[0m\u001b[0mpage_nums\u001b[0m\u001b[0;34m)\u001b[0m\u001b[0;34m:\u001b[0m\u001b[0;34m\u001b[0m\u001b[0m\n\u001b[1;32m     26\u001b[0m     \u001b[0;32mif\u001b[0m \u001b[0mnum\u001b[0m \u001b[0;34m==\u001b[0m \u001b[0mpage_nums\u001b[0m\u001b[0;34m:\u001b[0m\u001b[0;34m\u001b[0m\u001b[0m\n",
      "\u001b[0;31mAttributeError\u001b[0m: 'NoneType' object has no attribute 'em'"
     ]
    }
   ],
   "source": [
    "from selenium import webdriver\n",
    "from selenium.webdriver.common.keys import Keys\n",
    "from bs4 import BeautifulSoup\n",
    "from time import sleep\n",
    "from random import random\n",
    "import pandas as pd\n",
    "\n",
    "browser = webdriver.Safari()\n",
    "browser.get('http://www.jd.com')\n",
    "fout = open('京东电脑商品数据爬虫.txt','w',encoding='utf-8')\n",
    "k=1\n",
    "sleep(3)\n",
    "search_box = browser.find_element_by_css_selector('#key')\n",
    "search_box.send_keys('电脑\\n')\n",
    "search = browser.find_element_by_xpath('//*[@id=\"search\"]/div/div[2]/button')\n",
    "search.click()\n",
    "sleep(3)\n",
    "html = browser.page_source\n",
    "sp = BeautifulSoup(html,'lxml')\n",
    "head = browser.find_element_by_tag_name('html')\n",
    "for _ in range(2):\n",
    "    head.send_keys(Keys.END)\n",
    "    sleep(0.5)\n",
    "page_nums = int(sp.select_one('span.p-skip').em.b.get_text())\n",
    "for num in range(page_nums):\n",
    "    if num == page_nums:\n",
    "        break\n",
    "    head = browser.find_element_by_tag_name('html')\n",
    "    for _ in range(2):\n",
    "        head.send_keys(Keys.END)\n",
    "        sleep(0.5)\n",
    "    html = browser.page_source\n",
    "    sp = BeautifulSoup(html,'lxml')\n",
    "    gl_warp = sp.select_one('ul.gl-warp')\n",
    "    items = gl_warp.select('li.gl-item')\n",
    "    for item in items:\n",
    "        price = item.select_one('div.p-price').get_text().replace('\\n','')\n",
    "        # price\n",
    "        name = item.select_one('div.p-name').em.get_text()\n",
    "        # name\n",
    "        commit = item.select_one('div.p-commit').get_text().replace('\\n','')\n",
    "        # commit\n",
    "        shop = item.select_one('div.p-shop').span.get_text()\n",
    "        href = 'https://' + item.select_one('div.p-img').a.get('href')\n",
    "        print(k,name,price,commit,shop,href,sep='#',file=fout)\n",
    "        k += 1\n",
    "        sleep(1)\n",
    "    print(f'第{num+1}页爬取完成')\n",
    "    sleep(1)\n",
    "    next_box = browser.find_element_by_css_selector('#J_bottomPage > span.p-num > a.pn-next')\n",
    "    next_box.click()\n",
    "print('---- 完成！----')"
   ]
  },
  {
   "cell_type": "code",
   "execution_count": 22,
   "metadata": {},
   "outputs": [],
   "source": []
  },
  {
   "cell_type": "code",
   "execution_count": null,
   "metadata": {
    "scrolled": false
   },
   "outputs": [],
   "source": []
  },
  {
   "cell_type": "code",
   "execution_count": null,
   "metadata": {},
   "outputs": [],
   "source": []
  },
  {
   "cell_type": "code",
   "execution_count": null,
   "metadata": {},
   "outputs": [],
   "source": []
  },
  {
   "cell_type": "code",
   "execution_count": null,
   "metadata": {},
   "outputs": [],
   "source": []
  },
  {
   "cell_type": "code",
   "execution_count": null,
   "metadata": {},
   "outputs": [],
   "source": []
  }
 ],
 "metadata": {
  "kernelspec": {
   "display_name": "Python 3",
   "language": "python",
   "name": "python3"
  },
  "language_info": {
   "codemirror_mode": {
    "name": "ipython",
    "version": 3
   },
   "file_extension": ".py",
   "mimetype": "text/x-python",
   "name": "python",
   "nbconvert_exporter": "python",
   "pygments_lexer": "ipython3",
   "version": "3.7.0"
  }
 },
 "nbformat": 4,
 "nbformat_minor": 4
}
